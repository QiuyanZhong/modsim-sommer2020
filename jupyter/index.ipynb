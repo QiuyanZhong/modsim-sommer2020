{
 "cells": [
  {
   "cell_type": "markdown",
   "metadata": {},
   "source": [
    "# Online-Kurs zu Modellierung und Simulation \n",
    "(c) Goethe-Universität Frankfurt, [G-CSC](https://gcsc.uni-frankfurt.de/simulation-and-modelling), Stand: Sommer 2020\n",
    "\n",
    "\n",
    "\n",
    "## Einleitung und Inhalt\n",
    "    \n",
    "* [Einschrittverfahren](beispiel02-einschrittverfahren/beispiel02-einschrittverfahren.ipynb) \n",
    "* [Lotka-Volterra-System](beispiel01-lotka-volterra/beispiel01-LotkaVolterra.ipynb)\n"
   ]
  },
  {
   "cell_type": "code",
   "execution_count": null,
   "metadata": {},
   "outputs": [],
   "source": []
  }
 ],
 "metadata": {
  "kernelspec": {
   "display_name": "Python 2",
   "language": "python",
   "name": "python2"
  },
  "language_info": {
   "codemirror_mode": {
    "name": "ipython",
    "version": 2
   },
   "file_extension": ".py",
   "mimetype": "text/x-python",
   "name": "python",
   "nbconvert_exporter": "python",
   "pygments_lexer": "ipython2",
   "version": "2.7.16"
  }
 },
 "nbformat": 4,
 "nbformat_minor": 2
}
