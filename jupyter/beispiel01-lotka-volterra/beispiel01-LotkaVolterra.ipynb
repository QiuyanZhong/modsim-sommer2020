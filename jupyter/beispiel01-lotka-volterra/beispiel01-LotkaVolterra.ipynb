{
 "cells": [
  {
   "cell_type": "markdown",
   "metadata": {},
   "source": [
    "# Beispiel 1: Numerische Lösung der Lotka-Volterra Gleichungen \n",
    "***Autor:*** Arne Nägel, G-CSC, Uni Frankfurt, ***Datum:*** 24.10.19\n"
   ]
  },
  {
   "cell_type": "markdown",
   "metadata": {},
   "source": [
    "Populationen von Beute $x$ und Räubern $y$\n",
    "\\begin{align}\n",
    "\\dot{x} & = (a-b y)x \\\\\n",
    "\\dot{y} & = -(c -dx)y\\\\\n",
    "\\end{align}\n",
    "mit $a,b,c,d>0$ zum Anfangswert $(x_0, y_0)^T$. "
   ]
  },
  {
   "cell_type": "markdown",
   "metadata": {},
   "source": [
    "## Lösen der DGL\n",
    "Definition einer Koeffizientenmatrix \n",
    "$$\\begin{pmatrix} a & b\\\\ c& d \\end{pmatrix}$$\n",
    "sowie Vektoren für den stationären Zustands\n",
    "$$\\vec u^* = \\begin{pmatrix} x^*\\\\ y^*\\end{pmatrix} = \\begin{pmatrix} c/d \\\\ a/b\\end{pmatrix}$$\n",
    "und \n",
    "$$\\vec u_0 = \\begin{pmatrix} x_0\\\\ y_0\\end{pmatrix} = \\begin{pmatrix} 0.1 \\\\ 1\\end{pmatrix}.$$"
   ]
  },
  {
   "cell_type": "code",
   "execution_count": 146,
   "metadata": {},
   "outputs": [
    {
     "name": "stdout",
     "output_type": "stream",
     "text": [
      "Coeff =\n",
      "\n",
      "   2   1\n",
      "   1   3\n",
      "\n",
      "ustat =\n",
      "\n",
      "   0.33333\n",
      "   2.00000\n",
      "\n"
     ]
    }
   ],
   "source": [
    "Coeff =[2 1; 1 3]  \n",
    "ustat = [Coeff(2,1) / Coeff(2,2); Coeff(1,1)/Coeff(1,2)]\n",
    "u0=[0.1; 1];   % Falls ein Kommando mit Semikolon beendet wird, erfolgt keine Ausgabe."
   ]
  },
  {
   "cell_type": "markdown",
   "metadata": {},
   "source": [
    "Definition der rechten Seite:"
   ]
  },
  {
   "cell_type": "code",
   "execution_count": 135,
   "metadata": {},
   "outputs": [],
   "source": [
    "function udot=f_rhs(u, t)\n",
    "    global Coeff\n",
    "    udot = zeros(2,1);\n",
    "      \n",
    "    udot(1) = u(1)*(Coeff(1,1) - Coeff(1,2)*u(2));\n",
    "    udot(2) = - u(2)*(Coeff(2,1)- Coeff(2,2)*u(1));\n",
    "endfunction"
   ]
  },
  {
   "cell_type": "markdown",
   "metadata": {},
   "source": [
    "Definiere mittels `linspace` einen Vektor \"times\" mit 500 äquidistant verteilten Punkten im Intervall [0,20]. "
   ]
  },
  {
   "cell_type": "code",
   "execution_count": 145,
   "metadata": {},
   "outputs": [],
   "source": [
    "times = linspace(0.0, 20.0, 500);"
   ]
  },
  {
   "cell_type": "markdown",
   "metadata": {},
   "source": [
    "Lösen der DGL mit `lsode`."
   ]
  },
  {
   "cell_type": "code",
   "execution_count": 138,
   "metadata": {},
   "outputs": [],
   "source": [
    "numsol  = lsode (@(y,t) f_rhs(y,4,t), u0, times);"
   ]
  },
  {
   "cell_type": "markdown",
   "metadata": {},
   "source": [
    "## Erzeuge einige Plots"
   ]
  },
  {
   "cell_type": "code",
   "execution_count": 139,
   "metadata": {},
   "outputs": [
    {
     "data": {
      "image/png": "[encoded data removed]",
      "text/plain": [
       "<IPython.core.display.Image object>"
      ]
     },
     "metadata": {},
     "output_type": "display_data"
    }
   ],
   "source": [
    "hold on   % \n",
    "xlabel('Zeit t')\n",
    "ylabel('Population')\n",
    "plot(times, numsol(:,1), 'color', 'black')\n",
    "plot(times, numsol(:,2), 'color', 'red')"
   ]
  },
  {
   "cell_type": "markdown",
   "metadata": {},
   "source": [
    "Nun eine Darstellung von Hasen gegen Füchse. "
   ]
  },
  {
   "cell_type": "code",
   "execution_count": 140,
   "metadata": {},
   "outputs": [
    {
     "data": {
      "image/png": "[encoded data removed]",
      "text/plain": [
       "<IPython.core.display.Image object>"
      ]
     },
     "metadata": {},
     "output_type": "display_data"
    }
   ],
   "source": [
    "hold on\n",
    "xlabel('Hasen')\n",
    "ylabel('Fuechse')\n",
    "plot(numsol(:,1), numsol(:,2), 'color', 'blue')\n",
    "plot(ustat(1), ustat(2), 'color', 'black')\n",
    "plot(u0(1), u0(2), 'color', 'black')"
   ]
  },
  {
   "cell_type": "markdown",
   "metadata": {},
   "source": [
    "Zuletzt das gleiche mit Vektorfeld:"
   ]
  },
  {
   "cell_type": "code",
   "execution_count": 143,
   "metadata": {},
   "outputs": [
    {
     "name": "stdout",
     "output_type": "stream",
     "text": [
      "N =  17\n",
      "xmax =  0.99443\n",
      "ymax =  4.5214\n"
     ]
    },
    {
     "data": {
      "image/png": "[encoded data removed]",
      "text/plain": [
       "<IPython.core.display.Image object>"
      ]
     },
     "metadata": {},
     "output_type": "display_data"
    }
   ],
   "source": [
    "\n",
    "% Erstelle N x N Raster\n",
    "N = 17 % 17 Punkte = 16 Intervalle\n",
    "\n",
    "xmax = max(numsol(:,1))\n",
    "ymax = max(numsol(:,2))\n",
    "\n",
    "xaxis= linspace(0.0, xmax, N);\n",
    "yaxis= linspace(0.0, ymax, N);\n",
    "\n",
    "% Initialisierung\n",
    "dxRaster = zeros(N);\n",
    "dyRaster = zeros(N);\n",
    "\n",
    "% Erstelle eine Matrix mit i,j Indizierung\n",
    "for i=1:length(yaxis)\n",
    "for j=1:length(xaxis)\n",
    "    f = f_rhs([xaxis(j); yaxis(i)], 0);\n",
    "    dxRaster(i,j) = f(1);\n",
    "    dyRaster(i,j) = f(2);\n",
    "end\n",
    "end\n",
    "\n",
    "% Eine weitere Lösung zum Anfangswert (0.5, 1)\n",
    "numsol2 = lsode (@(y,t) f_rhs(y,4,t), [0.5; 1], times); \n",
    " \n",
    "% Eigentlicher Plot mit quiver (s. help quiver)\n",
    "hold on\n",
    "xlabel('x')\n",
    "ylabel('y')\n",
    "title (\"Richtungsfeld dy/dx \");\n",
    "quiver (xaxis, yaxis, dxRaster, dyRaster);\n",
    "plot(numsol(:,1), numsol(:,2), 'color', 'black')\n",
    "plot(numsol2(:,1), numsol2(:,2), 'color', 'green')\n",
    "plot(ustat(1), ustat(2), 'color', 'black')"
   ]
  },
  {
   "cell_type": "markdown",
   "metadata": {},
   "source": [
    "## Bemerkung\n",
    "* Hilfe zu den Befehlen erhält man mit `help`, z.B. `help plot`. \n",
    "* Codezellen unterstützen <TAB>-Expansion.\n",
    "* Zuletzt: Viel Freude beim Experimentieren!"
   ]
  },
  {
   "cell_type": "code",
   "execution_count": 148,
   "metadata": {},
   "outputs": [
    {
     "name": "stdout",
     "output_type": "stream",
     "text": [
      "'plot' is a function from the file /opt/local/share/octave/5.1.0/m/plot/draw/plot.m\r\n",
      "\r\n",
      " -- plot (Y)\r\n",
      " -- plot (X, Y)\r\n",
      " -- plot (X, Y, FMT)\r\n",
      " -- plot (..., PROPERTY, VALUE, ...)\r\n",
      " -- plot (X1, Y1, ..., XN, YN)\r\n",
      " -- plot (HAX, ...)\r\n",
      " -- H = plot (...)\r\n",
      "     Produce 2-D plots.\r\n",
      "\r\n",
      "     Many different combinations of arguments are possible.  The\r\n",
      "     simplest form is\r\n",
      "\r\n",
      "          plot (Y)\r\n",
      "\r\n",
      "     where the argument is taken as the set of Y coordinates and the X\r\n",
      "     coordinates are taken to be the range '1:numel (Y)'.\r\n",
      "\r\n",
      "     If more than one argument is given, they are interpreted as\r\n",
      "\r\n",
      "          plot (Y, PROPERTY, VALUE, ...)\r\n",
      "\r\n",
      "     or\r\n",
      "\r\n",
      "          plot (X, Y, PROPERTY, VALUE, ...)\r\n",
      "\r\n",
      "     or\r\n",
      "\r\n",
      "          plot (X, Y, FMT, ...)\r\n",
      "\r\n",
      "     and so on.  Any number of argument sets may appear.  The X and Y\r\n",
      "     values are interpreted as follows:\r\n",
      "\r\n",
      "        * If a single data argument is supplied, it is taken as the set\r\n",
      "          of Y coordinates and the X coordinates are taken to be the\r\n",
      "          indices of the elements, starting with 1.\r\n",
      "\r\n",
      "        * If X and Y are scalars, a single point is plotted.\r\n",
      "\r\n",
      "        * 'squeeze()' is applied to arguments with more than two\r\n",
      "          dimensions, but no more than two singleton dimensions.\r\n",
      "\r\n",
      "        * If both arguments are vectors, the elements of Y are plotted\r\n",
      "          versus the elements of X.\r\n",
      "\r\n",
      "        * If X is a vector and Y is a matrix, then the columns (or rows)\r\n",
      "          of Y are plotted versus X.  (using whichever combination\r\n",
      "          matches, with columns tried first.)\r\n",
      "\r\n",
      "        * If the X is a matrix and Y is a vector, Y is plotted versus\r\n",
      "          the columns (or rows) of X.  (using whichever combination\r\n",
      "          matches, with columns tried first.)\r\n",
      "\r\n",
      "        * If both arguments are matrices, the columns of Y are plotted\r\n",
      "          versus the columns of X.  In this case, both matrices must\r\n",
      "          have the same number of rows and columns and no attempt is\r\n",
      "          made to transpose the arguments to make the number of rows\r\n",
      "          match.\r\n",
      "\r\n",
      "     Multiple property-value pairs may be specified, but they must\r\n",
      "     appear in pairs.  These arguments are applied to the line objects\r\n",
      "     drawn by 'plot'.  Useful properties to modify are \"linestyle\",\r\n",
      "     \"linewidth\", \"color\", \"marker\", \"markersize\", \"markeredgecolor\",\r\n",
      "     \"markerfacecolor\".  *Note Line Properties::.\r\n",
      "\r\n",
      "     The FMT format argument can also be used to control the plot style.\r\n",
      "     It is a string composed of four optional parts:\r\n",
      "     \"<linestyle><marker><color><;displayname;>\".  When a marker is\r\n",
      "     specified, but no linestyle, only the markers are plotted.\r\n",
      "     Similarly, if a linestyle is specified, but no marker, then only\r\n",
      "     lines are drawn.  If both are specified then lines and markers will\r\n",
      "     be plotted.  If no FMT and no PROPERTY/VALUE pairs are given, then\r\n",
      "     the default plot style is solid lines with no markers and the color\r\n",
      "     determined by the \"colororder\" property of the current axes.\r\n",
      "\r\n",
      "     Format arguments:\r\n",
      "\r\n",
      "     linestyle\r\n",
      "\r\n",
      "          '-'  Use solid lines (default).\r\n",
      "          '--' Use dashed lines.\r\n",
      "          ':'  Use dotted lines.\r\n",
      "          '-.' Use dash-dotted lines.\r\n",
      "\r\n",
      "     marker\r\n",
      "\r\n",
      "          '+'  crosshair\r\n",
      "          'o'  circle\r\n",
      "          '*'  star\r\n",
      "          '.'  point\r\n",
      "          'x'  cross\r",
      "\r\n",
      "          's'  square\r\n",
      "          'd'  diamond\r\n",
      "          '^'  upward-facing triangle\r\n",
      "          'v'  downward-facing triangle\r\n",
      "          '>'  right-facing triangle\r\n",
      "          '<'  left-facing triangle\r\n",
      "          'p'  pentagram\r\n",
      "          'h'  hexagram\r\n",
      "\r\n",
      "     color\r\n",
      "\r\n",
      "          'k'  blacK\r\n",
      "          'r'  Red\r\n",
      "          'g'  Green\r\n",
      "          'b'  Blue\r\n",
      "          'y'  Yellow\r\n",
      "          'm'  Magenta\r\n",
      "          'c'  Cyan\r\n",
      "          'w'  White\r\n",
      "\r\n",
      "     \";displayname;\"\r\n",
      "          Here \"displayname\" is the label to use for the plot legend.\r\n",
      "\r\n",
      "     The FMT argument may also be used to assign legend labels.  To do\r\n",
      "     so, include the desired label between semicolons after the\r\n",
      "     formatting sequence described above, e.g., \"+b;Key Title;\".  Note\r\n",
      "     that the last semicolon is required and Octave will generate an\r\n",
      "     error if it is left out.\r\n",
      "\r\n",
      "     Here are some plot examples:\r\n",
      "\r\n",
      "          plot (x, y, \"or\", x, y2, x, y3, \"m\", x, y4, \"+\")\r\n",
      "\r\n",
      "     This command will plot 'y' with red circles, 'y2' with solid lines,\r\n",
      "     'y3' with solid magenta lines, and 'y4' with points displayed as\r\n",
      "     '+'.\r\n",
      "\r\n",
      "          plot (b, \"*\", \"markersize\", 10)\r\n",
      "\r\n",
      "     This command will plot the data in the variable 'b', with points\r\n",
      "     displayed as '*' and a marker size of 10.\r\n",
      "\r\n",
      "          t = 0:0.1:6.3;\r\n",
      "          plot (t, cos(t), \"-;cos(t);\", t, sin(t), \"-b;sin(t);\");\r\n",
      "\r\n",
      "     This will plot the cosine and sine functions and label them\r\n",
      "     accordingly in the legend.\r\n",
      "\r\n",
      "     If the first argument HAX is an axes handle, then plot into this\r\n",
      "     axes, rather than the current axes returned by 'gca'.\r\n",
      "\r\n",
      "     The optional return value H is a vector of graphics handles to the\r\n",
      "     created line objects.\r\n",
      "\r\n",
      "     To save a plot, in one of several image formats such as PostScript\r\n",
      "     or PNG, use the 'print' command.\r\n",
      "\r\n",
      "     See also: axis, box, grid, hold, legend, title, xlabel, ylabel,\r\n",
      "     xlim, ylim, ezplot, errorbar, fplot, line, plot3, polar, loglog,\r\n",
      "     semilogx, semilogy, subplot.\r\n",
      "\r\n",
      "Additional help for built-in functions and operators is\r\n",
      "available in the online version of the manual.  Use the command\r\n",
      "'doc <topic>' to search the manual index.\r\n",
      "\r\n",
      "Help and information about Octave is also available on the WWW\r\n",
      "at https://www.octave.org and via the help@octave.org\r\n",
      "mailing list.\r\n"
     ]
    }
   ],
   "source": [
    "help plot"
   ]
  },
  {
   "cell_type": "code",
   "execution_count": null,
   "metadata": {},
   "outputs": [],
   "source": []
  }
 ],
 "metadata": {
  "kernelspec": {
   "display_name": "Octave",
   "language": "octave",
   "name": "octave"
  },
  "language_info": {
   "file_extension": ".m",
   "help_links": [
    {
     "text": "GNU Octave",
     "url": "https://www.gnu.org/software/octave/support.html"
    },
    {
     "text": "Octave Kernel",
     "url": "https://github.com/Calysto/octave_kernel"
    },
    {
     "text": "MetaKernel Magics",
     "url": "https://metakernel.readthedocs.io/en/latest/source/README.html"
    }
   ],
   "mimetype": "text/x-octave",
   "name": "octave",
   "version": "5.1.0"
  }
 },
 "nbformat": 4,
 "nbformat_minor": 2
}
