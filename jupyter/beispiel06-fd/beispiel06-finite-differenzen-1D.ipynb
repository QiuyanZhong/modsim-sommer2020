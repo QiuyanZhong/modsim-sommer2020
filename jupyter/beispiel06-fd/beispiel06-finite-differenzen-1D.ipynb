{
 "cells": [
  {
   "cell_type": "markdown",
   "metadata": {},
   "source": [
    "# Programmbeispiel: Finite Differenzen (1D)\n",
    "\n",
    "In diesem Beispiel lösen wir das Problem\n",
    "$$\n",
    "-u''(x) = f(x), x \\in (a,b)\n",
    "$$\n",
    "mit Randwerten $u(a) = u_a, u(b) = u_b$. \n",
    "\n",
    "\n",
    "Damit wir konkret arbeiten können, wählen wir das Einheitsintervall $a=0, b=1$ und betrachten die rechte Seite $f(x) = \\pi^2 \\sin \\pi x$. Hierfür ergibt sich die Lösung \n",
    "$$ u(x) = \\sin \\pi x\n",
    "$$"
   ]
  },
  {
   "cell_type": "code",
   "execution_count": 1,
   "metadata": {},
   "outputs": [
    {
     "name": "stdout",
     "output_type": "stream",
     "text": [
      "xa = 0\n",
      "xb =  1\n",
      "ua = 0\n",
      "ub = 0\n",
      "NumCells =  8\n",
      "NumPoints =  9\n",
      "h =  0.12500\n"
     ]
    }
   ],
   "source": [
    "xa = 0.0\n",
    "xb = 1.0\n",
    "\n",
    "ua= 0.0\n",
    "ub= 0.0\n",
    "\n",
    "NumCells = 8\n",
    "NumPoints = NumCells +1\n",
    "\n",
    "# Gitterweite\n",
    "h = (xb-xa)/NumCells\n",
    "\n",
    "# Koordinaten\n",
    "x = linspace(xa, xb, NumPoints);"
   ]
  },
  {
   "cell_type": "code",
   "execution_count": 2,
   "metadata": {},
   "outputs": [
    {
     "name": "stdout",
     "output_type": "stream",
     "text": [
      "f = f(x) = (pi*pi)*sin(pi*x)\n",
      "mysolution = f(x) = sin(pi*x)\n"
     ]
    }
   ],
   "source": [
    "f=inline(\"(pi*pi)*sin(pi*x)\")\n",
    "mysolution = inline(\"sin(pi*x)\")"
   ]
  },
  {
   "cell_type": "markdown",
   "metadata": {},
   "source": [
    "## a) Schritt für Schritt zum LGS\n",
    "Zunächst initialisieren wir für **innere Knoten** die Matrix und rechte Seite mit\n",
    "$$\n",
    "(-u_{i-1} + 2 u_i - u_{i+1}) = h^2 f_i\n",
    "$$"
   ]
  },
  {
   "cell_type": "code",
   "execution_count": 3,
   "metadata": {},
   "outputs": [
    {
     "name": "stdout",
     "output_type": "stream",
     "text": [
      "A =\n",
      "\n",
      "   2  -1   0   0   0   0   0   0   0\n",
      "  -1   2  -1   0   0   0   0   0   0\n",
      "   0  -1   2  -1   0   0   0   0   0\n",
      "   0   0  -1   2  -1   0   0   0   0\n",
      "   0   0   0  -1   2  -1   0   0   0\n",
      "   0   0   0   0  -1   2  -1   0   0\n",
      "   0   0   0   0   0  -1   2  -1   0\n",
      "   0   0   0   0   0   0  -1   2  -1\n",
      "   0   0   0   0   0   0   0  -1   2\n",
      "\n",
      "b =\n",
      "\n",
      "   0.00000\n",
      "   0.05901\n",
      "   0.10904\n",
      "   0.14247\n",
      "   0.15421\n",
      "   0.14247\n",
      "   0.10904\n",
      "   0.05901\n",
      "   0.00000\n",
      "\n"
     ]
    }
   ],
   "source": [
    "%writefile init_matrix.m\n",
    "function A=init_matrix(NumPoints)\n",
    "A = zeros(NumPoints);\n",
    "for i=1:NumPoints\n",
    "    if (i>1) A(i,i-1) = -1; end\n",
    "    A(i,i) = 2.0;\n",
    "    if (i<NumPoints) A(i,i+1) = -1; end\n",
    "end\n",
    "endfunction\n",
    "\n",
    "A = init_matrix(NumPoints)\n",
    "b = (h*h)*f(x)(:)\n",
    "u = zeros(NumPoints,1);"
   ]
  },
  {
   "cell_type": "markdown",
   "metadata": {},
   "source": [
    "An den Stellen, an denen **Dirichlet-Randwerte** vorliegen, wird in der Matrix eine Einheitszeile gesetzt und die rechte Seite angepasst:"
   ]
  },
  {
   "cell_type": "code",
   "execution_count": 4,
   "metadata": {},
   "outputs": [],
   "source": [
    "function [A,b] = set_dirichlet(i, ui, A, b)\n",
    "    b(i) = ui;\n",
    "    A(i,:) = 0;\n",
    "    A(i,i) = 1;\n",
    "endfunction"
   ]
  },
  {
   "cell_type": "code",
   "execution_count": 5,
   "metadata": {},
   "outputs": [
    {
     "name": "stdout",
     "output_type": "stream",
     "text": [
      "A =\r\n",
      "\r\n",
      "   1   0   0   0   0   0   0   0   0\r\n",
      "  -1   2  -1   0   0   0   0   0   0\r\n",
      "   0  -1   2  -1   0   0   0   0   0\r\n",
      "   0   0  -1   2  -1   0   0   0   0\r\n",
      "   0   0   0  -1   2  -1   0   0   0\r\n",
      "   0   0   0   0  -1   2  -1   0   0\r\n",
      "   0   0   0   0   0  -1   2  -1   0\r\n",
      "   0   0   0   0   0   0  -1   2  -1\r\n",
      "   0   0   0   0   0   0   0   0   1\r\n",
      "\r\n",
      "b =\r\n",
      "\r\n",
      "   0.00000\r\n",
      "   0.05901\r\n",
      "   0.10904\r\n",
      "   0.14247\r\n",
      "   0.15421\r\n",
      "   0.14247\r\n",
      "   0.10904\r\n",
      "   0.05901\r\n",
      "   0.00000\r\n",
      "\r\n"
     ]
    }
   ],
   "source": [
    "[A,b] = set_dirichlet(1, ua, A, b);\n",
    "[A,b] = set_dirichlet(NumPoints, ub, A, b)"
   ]
  },
  {
   "cell_type": "markdown",
   "metadata": {},
   "source": [
    "**Neumann-Randbedingungen** \n",
    "Gegeben sei die Neumann-Bedingung am linken Rand:\n",
    "$$\n",
    "\\frac{\\partial u}{\\partial n} = -g\n",
    "$$\n",
    "\n",
    "\n",
    "In der Gleichung\n",
    "$$\n",
    "\\frac{u_0-2u_1 + u_2}{h^2} = f_1 $$\n",
    "eliminiert man den (Ghost-)Wert $u_0$ mittels\n",
    "\n",
    "$$\n",
    "\\frac{u_2-u_0}{2h} = -g \\Leftrightarrow  u_0 = u_2 + 2gh\n",
    "$$\n",
    "und erhält \n",
    "$$\\frac{u_2- u_1}{h} =  \\frac{h}{2}f_1 - g $$\n",
    "bzw.\n",
    "$$ (u_2- u_1) =  \\frac{h^2}{2}f_1 - g h $$\n",
    "Aus Symmetriegründen gilt die Updateformel auch am rechten Rand, wobei das Vorzeichen des Normalenvektors zu beachten ist."
   ]
  },
  {
   "cell_type": "code",
   "execution_count": 6,
   "metadata": {},
   "outputs": [],
   "source": [
    "function [A,b] = add_neumann(i, ghi, A, b)\n",
    "    A(i,i) += -1.0;\n",
    "    b(i) *=0.5;\n",
    "    b(i) += ghi;\n",
    "endfunction\n",
    "\n",
    "% [A,b] = add_neumann(1, -h*1.0, A, b);"
   ]
  },
  {
   "cell_type": "markdown",
   "metadata": {},
   "source": [
    "Die numerische Lösung kann nun über ein lineares Gleichungssystem bestimmt werden:"
   ]
  },
  {
   "cell_type": "code",
   "execution_count": 7,
   "metadata": {},
   "outputs": [],
   "source": [
    "u = linsolve(A,b);"
   ]
  },
  {
   "cell_type": "markdown",
   "metadata": {},
   "source": [
    "Wir wollen numerische und analytische Lösung gegenüberstellen:"
   ]
  },
  {
   "cell_type": "code",
   "execution_count": 8,
   "metadata": {},
   "outputs": [
    {
     "name": "stdout",
     "output_type": "stream",
     "text": [
      "sol =\r\n",
      "\r\n",
      " Columns 1 through 8:\r\n",
      "\r\n",
      "   0.00000   0.38268   0.70711   0.92388   1.00000   0.92388   0.70711   0.38268\r\n",
      "\r\n",
      " Column 9:\r\n",
      "\r\n",
      "   0.00000\r\n",
      "\r\n"
     ]
    },
    {
     "data": {
      "image/png": "[encoded data removed]",
      "text/plain": [
       "<IPython.core.display.Image object>"
      ]
     },
     "metadata": {},
     "output_type": "display_data"
    }
   ],
   "source": [
    "hold on\n",
    "sol = mysolution(x)\n",
    "plot(x, u)\n",
    "plot(x, sol)"
   ]
  },
  {
   "cell_type": "markdown",
   "metadata": {},
   "source": [
    "Den Fehler berechnen wir in den Punkten $x_i$:"
   ]
  },
  {
   "cell_type": "code",
   "execution_count": 9,
   "metadata": {},
   "outputs": [
    {
     "name": "stdout",
     "output_type": "stream",
     "text": [
      "err =\n",
      "\n",
      " Columns 1 through 8:\n",
      "\n",
      "   0.00000  -0.38268  -0.70711  -0.92388  -1.00000  -0.92388  -0.70711  -0.38268\n",
      "   0.38764   0.00496  -0.31947  -0.53624  -0.61236  -0.53624  -0.31947   0.00496\n",
      "   0.71626   0.33358   0.00916  -0.20762  -0.28374  -0.20762   0.00916   0.33358\n",
      "   0.93584   0.55316   0.22874   0.01196  -0.06416   0.01196   0.22874   0.55316\n",
      "   1.01295   0.63027   0.30584   0.08907   0.01295   0.08907   0.30584   0.63027\n",
      "   0.93584   0.55316   0.22874   0.01196  -0.06416   0.01196   0.22874   0.55316\n",
      "   0.71626   0.33358   0.00916  -0.20762  -0.28374  -0.20762   0.00916   0.33358\n",
      "   0.38764   0.00496  -0.31947  -0.53624  -0.61236  -0.53624  -0.31947   0.00496\n",
      "   0.00000  -0.38268  -0.70711  -0.92388  -1.00000  -0.92388  -0.70711  -0.38268\n",
      "\n",
      " Column 9:\n",
      "\n",
      "  -0.00000\n",
      "   0.38764\n",
      "   0.71626\n",
      "   0.93584\n",
      "   1.01295\n",
      "   0.93584\n",
      "   0.71626\n",
      "   0.38764\n",
      "  -0.00000\n",
      "\n",
      "einf =  5.0273\n"
     ]
    }
   ],
   "source": [
    "err = u-sol\n",
    "einf=norm(err, inf)"
   ]
  },
  {
   "cell_type": "markdown",
   "metadata": {},
   "source": [
    "## b) Studie zur Diskretisierungsgenauigkeit"
   ]
  },
  {
   "cell_type": "code",
   "execution_count": 10,
   "metadata": {},
   "outputs": [],
   "source": [
    "function [h, herr]=discretization_error(f, NumPoints, xLeft, uLeft, xRight, uRight, uref )\n",
    "\n",
    "    # Gitterweite\n",
    "    h = (xRight - xLeft)/(NumPoints-1);\n",
    "    # Koordinaten\n",
    "    x = linspace(xLeft, xRight, NumPoints);\n",
    "    \n",
    "    # Aufstellen des LGS\n",
    "    A = init_matrix(NumPoints);\n",
    "    h\n",
    "    b = f(x)(:);\n",
    "    b *= (h*h);\n",
    "    u = zeros(NumPoints,1);\n",
    "    \n",
    "    [A,b] = set_dirichlet(1, uLeft, A, b);\n",
    "    [A,b] = set_dirichlet(NumPoints, uRight, A, b);\n",
    "    \n",
    "    u = linsolve(A,b);\n",
    "    \n",
    "    sol = uref(x)(:);\n",
    "    err = u -sol;\n",
    "    herr=norm(err, inf);\n",
    "    \n",
    "endfunction\n"
   ]
  },
  {
   "cell_type": "code",
   "execution_count": 11,
   "metadata": {},
   "outputs": [
    {
     "name": "stdout",
     "output_type": "stream",
     "text": [
      "h =  0.50000\n",
      "h =  0.25000\n",
      "h =  0.12500\n",
      "h =  0.062500\n",
      "h =  0.031250\n",
      "h =  0.015625\n",
      "h =  0.0078125\n",
      "h =  0.0039062\n",
      "ans =\n",
      "\n",
      "   0.5000000\n",
      "   0.2500000\n",
      "   0.1250000\n",
      "   0.0625000\n",
      "   0.0312500\n",
      "   0.0156250\n",
      "   0.0078125\n",
      "   0.0039062\n",
      "\n",
      "ans =\n",
      "\n",
      "   0.233700550\n",
      "   0.053029288\n",
      "   0.012950747\n",
      "   0.003218964\n",
      "   0.000803578\n",
      "   0.000200822\n",
      "   0.000050201\n",
      "   0.000012550\n",
      "\n"
     ]
    }
   ],
   "source": [
    "for k=1:8\n",
    "    [hGrid(k), hErr(k)] = discretization_error(f, 2**k+1, xa, ua, xb, ub, mysolution);\n",
    "endfor \n",
    "\n",
    "hGrid(:)\n",
    "hErr(:)"
   ]
  },
  {
   "cell_type": "code",
   "execution_count": 12,
   "metadata": {},
   "outputs": [
    {
     "data": {
      "image/png": "[encoded data removed]",
      "text/plain": [
       "<IPython.core.display.Image object>"
      ]
     },
     "metadata": {},
     "output_type": "display_data"
    }
   ],
   "source": [
    "\n",
    "loglog(hGrid,hErr)\n",
    "xlabel(\"h\")\n",
    "ylabel(\"Error\")"
   ]
  },
  {
   "cell_type": "code",
   "execution_count": null,
   "metadata": {},
   "outputs": [],
   "source": []
  }
 ],
 "metadata": {
  "kernelspec": {
   "display_name": "Octave",
   "language": "octave",
   "name": "octave"
  },
  "language_info": {
   "file_extension": ".m",
   "help_links": [
    {
     "text": "GNU Octave",
     "url": "https://www.gnu.org/software/octave/support.html"
    },
    {
     "text": "Octave Kernel",
     "url": "https://github.com/Calysto/octave_kernel"
    },
    {
     "text": "MetaKernel Magics",
     "url": "https://metakernel.readthedocs.io/en/latest/source/README.html"
    }
   ],
   "mimetype": "text/x-octave",
   "name": "octave",
   "version": "5.1.0"
  }
 },
 "nbformat": 4,
 "nbformat_minor": 2
}
