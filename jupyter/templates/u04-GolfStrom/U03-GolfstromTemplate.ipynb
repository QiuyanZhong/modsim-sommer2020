{
 "cells": [
  {
   "cell_type": "markdown",
   "metadata": {},
   "source": [
    "# Golfstrom (Blatt 3, Aufgabe 1)\n",
    "***Autor:*** Arne Nägel, G-CSC, Uni Frankfurt, ***Datum:*** 19.11.19\n"
   ]
  },
  {
   "cell_type": "markdown",
   "metadata": {},
   "source": [
    "Der Golfstrom transportiert Wasser vom Golf von Mexiko durch den Atlantik nach Nordeuropa. Durch diesen Austausch kommen wir in Europa in den Genuß von relativ moderaten Temperaturen. In der folgenden Aufgabe wollen wir ein (stark!) vereinfachtes Modell hierfür betrachten. Das Modell ist folgender Originalarbeit entnommen:\n",
    "\n",
    "HENRY STOMMEL: \"Thermohaline Convection with Two Stable Regimes of Flow\", Tellus, 1961, Volume 13, Issue 2, 224-230, https://doi.org/10.1111/j.2153-3490.1961.tb00079.x"
   ]
  },
  {
   "cell_type": "markdown",
   "metadata": {},
   "source": [
    "Diese Gleichung soll an dieser Stelle in dimensionslosen Größen formuliert werden. Dazu werden eine Temperaturdifferenz $0<T<1$ und Salinitätsdifferenz $0<S<1$ betrachtet. Es ergeben sich nun folgende Gleichungen:\n",
    "\\begin{align*}\n",
    "\\frac{dT}{dt} &= (1 - T) -  |q(T, S)| T \\\\\n",
    "\\frac{dS}{dt} &= \\gamma(1 - S) - |q(T, S)|S\\\\\n",
    "q(T,S) &=  \\alpha T -  \\beta S\n",
    "\\end{align*}\n",
    "In Fluiden nimmt die Dichte mit ansteigender Temperatur in der Regel ab. Mit steigender Salinität nimmt sie hingegen zu. Entsprechend quantifizieren die Parameter $\\alpha, \\beta$  den Einfluss von $T$ und $S$ auf den Fluss $q$ von links nach rechts: Steigt die Temperaturdifferenz, so nimmt der Fluss zu. Ein Anstieg der Salinitätsdifferenz wirkt hingegen in umgekehrter Richtung. Der Parameter $\\gamma$ gibt zuletzt das Verhältnis zwischen Salz- und Temperaturaustauschrate an.  \n",
    "\n",
    "a) Zeigen Sie: Die Gleichgewichtspunkte sind durch \n",
    "\\begin{align*}\n",
    "T^* &= \\frac{1}{1+|q^*|} \\\\\n",
    "S^* &= \\frac{\\gamma}{\\gamma+|q^* |} \\\\\n",
    "q^* &= \\alpha \\frac{\\gamma}{\\gamma+|q^* |} - \\beta \\frac{\\gamma}{\\gamma+|q^* |}\n",
    "\\end{align*}\n",
    "gegeben.\n",
    "\n",
    "\n"
   ]
  },
  {
   "cell_type": "markdown",
   "metadata": {},
   "source": [
    "### a) Berechnen Sie das Gleichgewicht\n",
    "\n"
   ]
  },
  {
   "cell_type": "markdown",
   "metadata": {},
   "source": []
  },
  {
   "cell_type": "markdown",
   "metadata": {},
   "source": [
    "### b) Formulierung der DGL\n",
    "Nun könnnen wir die rechte Seite der Differentialgleichung definieren."
   ]
  },
  {
   "cell_type": "code",
   "execution_count": 2,
   "metadata": {},
   "outputs": [],
   "source": [
    "function udot=f_golfstrom(u, t, parameter)\n",
    "\n",
    "    \n",
    "    # Temperature\n",
    "\n",
    "    \n",
    "    # Salinity\n",
    "\n",
    "endfunction"
   ]
  },
  {
   "cell_type": "markdown",
   "metadata": {},
   "source": [
    "### c) Numerische Lösung"
   ]
  },
  {
   "cell_type": "code",
   "execution_count": 3,
   "metadata": {},
   "outputs": [
    {
     "name": "stdout",
     "output_type": "stream",
     "text": [
      "Tsim =  12\r\n"
     ]
    }
   ],
   "source": [
    "Tsim = #           "
   ]
  },
  {
   "cell_type": "markdown",
   "metadata": {},
   "source": [
    "Betrachte verschiedene Anfangswerte:"
   ]
  },
  {
   "cell_type": "code",
   "execution_count": 4,
   "metadata": {},
   "outputs": [],
   "source": [
    "config=#"
   ]
  },
  {
   "cell_type": "code",
   "execution_count": 5,
   "metadata": {},
   "outputs": [],
   "source": [
    "mytimes =#"
   ]
  },
  {
   "cell_type": "markdown",
   "metadata": {},
   "source": [
    "*Hinweis:* Alternativ könnten auch eigene Module verwendet werden:"
   ]
  },
  {
   "cell_type": "markdown",
   "metadata": {},
   "source": [
    "b) Simulieren mit den Parametern bei b)"
   ]
  },
  {
   "cell_type": "code",
   "execution_count": 1,
   "metadata": {},
   "outputs": [],
   "source": [
    "parameter.alpha = #\n",
    "parameter.beta = #\n",
    "parameter.gamma = #"
   ]
  },
  {
   "cell_type": "markdown",
   "metadata": {},
   "source": [
    "## Erzeuge einige Plots"
   ]
  },
  {
   "cell_type": "code",
   "execution_count": 8,
   "metadata": {},
   "outputs": [],
   "source": [
    "%plot -f svg\n",
    "# %plot gnuplot "
   ]
  },
  {
   "cell_type": "markdown",
   "metadata": {},
   "source": [
    "Darstellung der Trajektorie in der $T$-$S$-Ebene"
   ]
  },
  {
   "cell_type": "code",
   "execution_count": 12,
   "metadata": {},
   "outputs": [
    {
     "name": "stdout",
     "output_type": "stream",
     "text": [
      "parse error:\n",
      "\n",
      "  syntax error\n",
      "\n",
      ">>>     solT =  #  config(i).u0\n",
      "                              ^\n",
      "\n",
      "parse error:\n",
      "\n",
      "  syntax error\n",
      "\n",
      ">>>     salinity = # ...\n",
      "                       ^\n",
      "\n",
      "parse error:\n",
      "\n",
      "  syntax error\n",
      "\n",
      ">>>     temperature = # ...\n",
      "                          ^\n",
      "\n",
      "parse error:\n",
      "\n",
      "  syntax error\n",
      "\n",
      ">>> end\n",
      "      ^\n",
      "\n"
     ]
    },
    {
     "data": {
      "image/svg+xml": [
       "<svg height=\"420px\" viewBox=\"0 0 560 420\" width=\"560px\" xmlns=\"http://www.w3.org/2000/svg\" xmlns:xlink=\"http://www.w3.org/1999/xlink\">\n",
       "\n",
       "<title>Gnuplot</title>\n",
       "<desc>Produced by GNUPLOT 5.2 patchlevel 7 </desc>\n",
       "\n",
       "<g id=\"gnuplot_canvas\">\n",
       "\n",
       "<rect fill=\"none\" height=\"420\" width=\"560\" x=\"0\" y=\"0\"/>\n",
       "<defs>\n",
       "\n",
       "\t<circle id=\"gpDot\" r=\"0.5\" stroke=\"currentColor\" stroke-width=\"0.5\"/>\n",
       "\t<path d=\"M-1,0 h2 M0,-1 v2\" id=\"gpPt0\" stroke=\"currentColor\" stroke-width=\"0.222\"/>\n",
       "\t<path d=\"M-1,-1 L1,1 M1,-1 L-1,1\" id=\"gpPt1\" stroke=\"currentColor\" stroke-width=\"0.222\"/>\n",
       "\t<path d=\"M-1,0 L1,0 M0,-1 L0,1 M-1,-1 L1,1 M-1,1 L1,-1\" id=\"gpPt2\" stroke=\"currentColor\" stroke-width=\"0.222\"/>\n",
       "\t<rect height=\"2\" id=\"gpPt3\" stroke=\"currentColor\" stroke-width=\"0.222\" width=\"2\" x=\"-1\" y=\"-1\"/>\n",
       "\t<rect fill=\"currentColor\" height=\"2\" id=\"gpPt4\" stroke=\"currentColor\" stroke-width=\"0.222\" width=\"2\" x=\"-1\" y=\"-1\"/>\n",
       "\t<circle cx=\"0\" cy=\"0\" id=\"gpPt5\" r=\"1\" stroke=\"currentColor\" stroke-width=\"0.222\"/>\n",
       "\t<use fill=\"currentColor\" id=\"gpPt6\" stroke=\"none\" xlink:href=\"#gpPt5\"/>\n",
       "\t<path d=\"M0,-1.33 L-1.33,0.67 L1.33,0.67 z\" id=\"gpPt7\" stroke=\"currentColor\" stroke-width=\"0.222\"/>\n",
       "\t<use fill=\"currentColor\" id=\"gpPt8\" stroke=\"none\" xlink:href=\"#gpPt7\"/>\n",
       "\t<use id=\"gpPt9\" stroke=\"currentColor\" transform=\"rotate(180)\" xlink:href=\"#gpPt7\"/>\n",
       "\t<use fill=\"currentColor\" id=\"gpPt10\" stroke=\"none\" xlink:href=\"#gpPt9\"/>\n",
       "\t<use id=\"gpPt11\" stroke=\"currentColor\" transform=\"rotate(45)\" xlink:href=\"#gpPt3\"/>\n",
       "\t<use fill=\"currentColor\" id=\"gpPt12\" stroke=\"none\" xlink:href=\"#gpPt11\"/>\n",
       "\t<path d=\"M0,1.330 L1.265,0.411 L0.782,-1.067 L-0.782,-1.076 L-1.265,0.411 z\" id=\"gpPt13\" stroke=\"currentColor\" stroke-width=\"0.222\"/>\n",
       "\t<use fill=\"currentColor\" id=\"gpPt14\" stroke=\"none\" xlink:href=\"#gpPt13\"/>\n",
       "\t<filter filterUnits=\"objectBoundingBox\" height=\"1\" id=\"textbox\" width=\"1\" x=\"0\" y=\"0\">\n",
       "\t  <feFlood flood-color=\"white\" flood-opacity=\"1\" result=\"bgnd\"/>\n",
       "\t  <feComposite in=\"SourceGraphic\" in2=\"bgnd\" operator=\"atop\"/>\n",
       "\t</filter>\n",
       "\t<filter filterUnits=\"objectBoundingBox\" height=\"1\" id=\"greybox\" width=\"1\" x=\"0\" y=\"0\">\n",
       "\t  <feFlood flood-color=\"lightgrey\" flood-opacity=\"1\" result=\"grey\"/>\n",
       "\t  <feComposite in=\"SourceGraphic\" in2=\"grey\" operator=\"atop\"/>\n",
       "\t</filter>\n",
       "</defs>\n",
       "<g color=\"white\" fill=\"none\" stroke=\"currentColor\" stroke-linecap=\"butt\" stroke-linejoin=\"miter\" stroke-width=\"1.00\">\n",
       "</g>\n",
       "<g color=\"black\" fill=\"none\" stroke=\"currentColor\" stroke-linecap=\"butt\" stroke-linejoin=\"miter\" stroke-width=\"1.00\">\n",
       "\t<g shape-rendering=\"crispEdges\" stroke=\"none\">\n",
       "\t\t<polygon fill=\"rgb(255, 255, 255)\" points=\"63.6,362.4 534.9,362.4 534.9,18.2 63.6,18.2 \"/>\n",
       "\t</g>\n",
       "</g>\n",
       "<g color=\"black\" fill=\"none\" stroke=\"currentColor\" stroke-linecap=\"butt\" stroke-linejoin=\"miter\" stroke-width=\"1.00\">\n",
       "\t<path d=\"M63.6,362.4 L76.1,362.4  \" stroke=\"rgb(  0,   0,   0)\"/>\t<g fill=\"rgb(38,38,38)\" font-family=\"Arial\" font-size=\"10.00\" stroke=\"none\" text-anchor=\"end\" transform=\"translate(55.3,365.7)\">\n",
       "\t\t<text><tspan font-family=\"Arial\">0</tspan></text>\n",
       "\t</g>\n",
       "</g>\n",
       "<g color=\"black\" fill=\"none\" stroke=\"currentColor\" stroke-linecap=\"butt\" stroke-linejoin=\"miter\" stroke-width=\"1.00\">\n",
       "\t<path d=\"M63.6,293.5 L76.1,293.5  \" stroke=\"rgb(  0,   0,   0)\"/>\t<g fill=\"rgb(38,38,38)\" font-family=\"Arial\" font-size=\"10.00\" stroke=\"none\" text-anchor=\"end\" transform=\"translate(55.3,296.8)\">\n",
       "\t\t<text><tspan font-family=\"Arial\">0.2</tspan></text>\n",
       "\t</g>\n",
       "</g>\n",
       "<g color=\"black\" fill=\"none\" stroke=\"currentColor\" stroke-linecap=\"butt\" stroke-linejoin=\"miter\" stroke-width=\"1.00\">\n",
       "\t<path d=\"M63.6,224.7 L76.1,224.7  \" stroke=\"rgb(  0,   0,   0)\"/>\t<g fill=\"rgb(38,38,38)\" font-family=\"Arial\" font-size=\"10.00\" stroke=\"none\" text-anchor=\"end\" transform=\"translate(55.3,228.0)\">\n",
       "\t\t<text><tspan font-family=\"Arial\">0.4</tspan></text>\n",
       "\t</g>\n",
       "</g>\n",
       "<g color=\"black\" fill=\"none\" stroke=\"currentColor\" stroke-linecap=\"butt\" stroke-linejoin=\"miter\" stroke-width=\"1.00\">\n",
       "\t<path d=\"M63.6,155.8 L76.1,155.8  \" stroke=\"rgb(  0,   0,   0)\"/>\t<g fill=\"rgb(38,38,38)\" font-family=\"Arial\" font-size=\"10.00\" stroke=\"none\" text-anchor=\"end\" transform=\"translate(55.3,159.1)\">\n",
       "\t\t<text><tspan font-family=\"Arial\">0.6</tspan></text>\n",
       "\t</g>\n",
       "</g>\n",
       "<g color=\"black\" fill=\"none\" stroke=\"currentColor\" stroke-linecap=\"butt\" stroke-linejoin=\"miter\" stroke-width=\"1.00\">\n",
       "\t<path d=\"M63.6,87.0 L76.1,87.0  \" stroke=\"rgb(  0,   0,   0)\"/>\t<g fill=\"rgb(38,38,38)\" font-family=\"Arial\" font-size=\"10.00\" stroke=\"none\" text-anchor=\"end\" transform=\"translate(55.3,90.3)\">\n",
       "\t\t<text><tspan font-family=\"Arial\">0.8</tspan></text>\n",
       "\t</g>\n",
       "</g>\n",
       "<g color=\"black\" fill=\"none\" stroke=\"currentColor\" stroke-linecap=\"butt\" stroke-linejoin=\"miter\" stroke-width=\"1.00\">\n",
       "\t<path d=\"M63.6,18.1 L76.1,18.1  \" stroke=\"rgb(  0,   0,   0)\"/>\t<g fill=\"rgb(38,38,38)\" font-family=\"Arial\" font-size=\"10.00\" stroke=\"none\" text-anchor=\"end\" transform=\"translate(55.3,21.4)\">\n",
       "\t\t<text><tspan font-family=\"Arial\">1</tspan></text>\n",
       "\t</g>\n",
       "</g>\n",
       "<g color=\"black\" fill=\"none\" stroke=\"currentColor\" stroke-linecap=\"butt\" stroke-linejoin=\"miter\" stroke-width=\"1.00\">\n",
       "\t<path d=\"M63.6,362.4 L63.6,349.9  \" stroke=\"rgb(  0,   0,   0)\"/>\t<g fill=\"rgb(38,38,38)\" font-family=\"Arial\" font-size=\"10.00\" stroke=\"none\" text-anchor=\"middle\" transform=\"translate(63.6,383.7)\">\n",
       "\t\t<text><tspan font-family=\"Arial\">0</tspan></text>\n",
       "\t</g>\n",
       "</g>\n",
       "<g color=\"black\" fill=\"none\" stroke=\"currentColor\" stroke-linecap=\"butt\" stroke-linejoin=\"miter\" stroke-width=\"1.00\">\n",
       "\t<path d=\"M157.9,362.4 L157.9,349.9  \" stroke=\"rgb(  0,   0,   0)\"/>\t<g fill=\"rgb(38,38,38)\" font-family=\"Arial\" font-size=\"10.00\" stroke=\"none\" text-anchor=\"middle\" transform=\"translate(157.9,383.7)\">\n",
       "\t\t<text><tspan font-family=\"Arial\">0.2</tspan></text>\n",
       "\t</g>\n",
       "</g>\n",
       "<g color=\"black\" fill=\"none\" stroke=\"currentColor\" stroke-linecap=\"butt\" stroke-linejoin=\"miter\" stroke-width=\"1.00\">\n",
       "\t<path d=\"M252.2,362.4 L252.2,349.9  \" stroke=\"rgb(  0,   0,   0)\"/>\t<g fill=\"rgb(38,38,38)\" font-family=\"Arial\" font-size=\"10.00\" stroke=\"none\" text-anchor=\"middle\" transform=\"translate(252.2,383.7)\">\n",
       "\t\t<text><tspan font-family=\"Arial\">0.4</tspan></text>\n",
       "\t</g>\n",
       "</g>\n",
       "<g color=\"black\" fill=\"none\" stroke=\"currentColor\" stroke-linecap=\"butt\" stroke-linejoin=\"miter\" stroke-width=\"1.00\">\n",
       "\t<path d=\"M346.4,362.4 L346.4,349.9  \" stroke=\"rgb(  0,   0,   0)\"/>\t<g fill=\"rgb(38,38,38)\" font-family=\"Arial\" font-size=\"10.00\" stroke=\"none\" text-anchor=\"middle\" transform=\"translate(346.4,383.7)\">\n",
       "\t\t<text><tspan font-family=\"Arial\">0.6</tspan></text>\n",
       "\t</g>\n",
       "</g>\n",
       "<g color=\"black\" fill=\"none\" stroke=\"currentColor\" stroke-linecap=\"butt\" stroke-linejoin=\"miter\" stroke-width=\"1.00\">\n",
       "\t<path d=\"M440.7,362.4 L440.7,349.9  \" stroke=\"rgb(  0,   0,   0)\"/>\t<g fill=\"rgb(38,38,38)\" font-family=\"Arial\" font-size=\"10.00\" stroke=\"none\" text-anchor=\"middle\" transform=\"translate(440.7,383.7)\">\n",
       "\t\t<text><tspan font-family=\"Arial\">0.8</tspan></text>\n",
       "\t</g>\n",
       "</g>\n",
       "<g color=\"black\" fill=\"none\" stroke=\"currentColor\" stroke-linecap=\"butt\" stroke-linejoin=\"miter\" stroke-width=\"1.00\">\n",
       "\t<path d=\"M535.0,362.4 L535.0,349.9  \" stroke=\"rgb(  0,   0,   0)\"/>\t<g fill=\"rgb(38,38,38)\" font-family=\"Arial\" font-size=\"10.00\" stroke=\"none\" text-anchor=\"middle\" transform=\"translate(535.0,383.7)\">\n",
       "\t\t<text><tspan font-family=\"Arial\">1</tspan></text>\n",
       "\t</g>\n",
       "</g>\n",
       "<g color=\"black\" fill=\"none\" stroke=\"currentColor\" stroke-linecap=\"butt\" stroke-linejoin=\"miter\" stroke-width=\"1.00\">\n",
       "</g>\n",
       "<g color=\"black\" fill=\"none\" stroke=\"currentColor\" stroke-linecap=\"butt\" stroke-linejoin=\"miter\" stroke-width=\"1.00\">\n",
       "\t<g fill=\"rgb(38,38,38)\" font-family=\"Arial\" font-size=\"11.00\" stroke=\"none\" text-anchor=\"middle\" transform=\"translate(24.9,190.3) rotate(-90)\">\n",
       "\t\t<text><tspan font-family=\"Arial\">Temperature [1]</tspan></text>\n",
       "\t</g>\n",
       "</g>\n",
       "<g color=\"black\" fill=\"none\" stroke=\"currentColor\" stroke-linecap=\"butt\" stroke-linejoin=\"miter\" stroke-width=\"1.00\">\n",
       "\t<g fill=\"rgb(38,38,38)\" font-family=\"Arial\" font-size=\"11.00\" stroke=\"none\" text-anchor=\"middle\" transform=\"translate(299.3,411.0)\">\n",
       "\t\t<text><tspan font-family=\"Arial\">Salinity [1]</tspan></text>\n",
       "\t</g>\n",
       "</g>\n",
       "<g color=\"black\" fill=\"none\" stroke=\"currentColor\" stroke-linecap=\"butt\" stroke-linejoin=\"miter\" stroke-width=\"1.00\">\n",
       "</g>\n",
       "\t<g id=\"gnuplot_plot_1a\"><title>gnuplot_plot_1a</title>\n",
       "<g color=\"white\" fill=\"none\" stroke=\"currentColor\" stroke-linecap=\"butt\" stroke-linejoin=\"miter\" stroke-width=\"0.50\">\n",
       "</g>\n",
       "<g color=\"black\" fill=\"none\" stroke=\"currentColor\" stroke-linecap=\"butt\" stroke-linejoin=\"miter\" stroke-width=\"0.50\">\n",
       "\t<path d=\"M440.7,362.4 L321.0,345.4 L262.8,332.3 L229.3,320.9 L208.3,310.3 L194.4,300.1 L185.0,290.2 L178.7,280.5   L174.6,270.9 L172.1,261.3 L170.9,251.7 L170.7,242.1 L171.4,232.3 L172.8,222.5 L174.9,212.5 L177.6,202.3   L180.8,192.0 L184.1,182.1 L186.9,173.6 L189.3,166.2 L191.1,160.0 L192.6,154.8 L193.7,150.5 L194.5,146.9   L195.0,144.1 L195.2,141.8 L195.3,140.1 L195.2,138.8 L194.9,137.8 L194.4,137.2 L193.9,136.9 L193.3,136.8   L192.6,136.9 L191.8,137.1 L190.9,137.5 L190.0,138.0 L189.1,138.6 L188.1,139.3 L187.1,140.1 L186.0,141.0   L184.9,141.8 L183.8,142.8 L182.7,143.7 L181.6,144.7 L180.5,145.7 L179.3,146.8 L178.2,147.8 L177.0,148.9   L175.9,149.9 L174.7,151.0 L173.6,152.1 L172.4,153.2 L171.3,154.2 L170.1,155.3 L169.0,156.4 L167.9,157.4   L166.7,158.5 L165.6,159.5 L164.5,160.5 L163.5,161.6 L162.4,162.6 L161.4,163.6 L160.3,164.5 L159.3,165.5   L158.3,166.5 L157.3,167.4 L156.4,168.3 L155.4,169.2 L154.5,170.1 L153.6,170.9 L152.7,171.8 L151.8,172.6   L151.0,173.4 L150.1,174.2 L149.3,174.9 L148.6,175.7 L147.8,176.4 L147.1,177.1 L146.3,177.8 L145.6,178.5   L144.9,179.1 L144.3,179.7 L143.6,180.3 L143.0,180.9 L142.4,181.5 L141.8,182.1 L141.3,182.6 L140.7,183.1   L140.2,183.6 L139.7,184.1 L139.2,184.6 L138.7,185.0 L138.3,185.5 L137.8,185.9 L137.4,186.3 L137.0,186.7   L136.6,187.0 L136.2,187.4 L135.8,187.8 L135.5,188.1 L135.1,188.4 L134.8,188.7 L134.5,189.0 L134.2,189.3   L133.9,189.6 L133.6,189.9 L133.3,190.1 L133.1,190.4 L132.8,190.6 L132.6,190.8 L132.4,191.0 L132.2,191.2   L131.9,191.4 L131.7,191.6 L131.5,191.8 L131.4,192.0 L131.2,192.2 L131.0,192.3 L130.9,192.5 L130.7,192.6   L130.5,192.8 L130.4,192.9 L130.3,193.0 L130.1,193.2 L130.0,193.3 L129.9,193.4 L129.8,193.5 L129.7,193.6   L129.6,193.7 L129.5,193.8 L129.4,193.9 L129.3,194.0 L129.2,194.1 L129.1,194.2 L129.0,194.2 L128.9,194.3   L128.9,194.4 L128.8,194.4 L128.7,194.5 L128.6,194.6 L128.5,194.7 L128.4,194.8 L128.3,194.9 L128.2,195.0   L128.1,195.1 L128.0,195.2 L127.9,195.3 L127.8,195.3 L127.8,195.4 L127.7,195.4 L127.7,195.5 L127.6,195.5   L127.6,195.6 L127.5,195.6 L127.5,195.7 L127.4,195.7 L127.4,195.8 L127.3,195.8  \" stroke=\"rgb(  0,   0, 255)\"/></g>\n",
       "\t</g>\n",
       "\t<g id=\"gnuplot_plot_2a\"><title>gnuplot_plot_2a</title>\n",
       "<g color=\"black\" fill=\"none\" stroke=\"currentColor\" stroke-linecap=\"butt\" stroke-linejoin=\"miter\" stroke-width=\"0.50\">\n",
       "\t<path d=\"M63.6,362.4 L87.2,328.0 L110.7,293.5 L134.3,259.1 L157.9,224.7 L181.5,190.2 L205.0,155.8 L228.6,121.4   L252.2,87.0 L275.7,52.5 L299.3,18.1  \" stroke=\"rgb(  0,   0,   0)\"/></g>\n",
       "\t</g>\n",
       "<g color=\"white\" fill=\"none\" stroke=\"rgb(  0,   0,   0)\" stroke-linecap=\"butt\" stroke-linejoin=\"miter\" stroke-width=\"2.00\">\n",
       "</g>\n",
       "<g color=\"black\" fill=\"none\" stroke=\"currentColor\" stroke-linecap=\"butt\" stroke-linejoin=\"miter\" stroke-width=\"2.00\">\n",
       "</g>\n",
       "<g color=\"black\" fill=\"none\" stroke=\"black\" stroke-linecap=\"butt\" stroke-linejoin=\"miter\" stroke-width=\"0.50\">\n",
       "\t<path d=\"M63.6,362.4 L535.0,362.4 M63.6,362.4 L63.6,18.1  \" stroke=\"rgb( 38,  38,  38)\"/></g>\n",
       "<g color=\"black\" fill=\"none\" stroke=\"rgb( 38,  38,  38)\" stroke-linecap=\"butt\" stroke-linejoin=\"miter\" stroke-width=\"1.00\">\n",
       "</g>\n",
       "<g color=\"black\" fill=\"none\" stroke=\"currentColor\" stroke-linecap=\"butt\" stroke-linejoin=\"miter\" stroke-width=\"1.00\">\n",
       "</g>\n",
       "</g>\n",
       "</svg>"
      ],
      "text/plain": [
       "<IPython.core.display.SVG object>"
      ]
     },
     "metadata": {},
     "output_type": "display_data"
    }
   ],
   "source": [
    "newplot()\n",
    "\n",
    "xlabel('Salinity [1]')\n",
    "ylabel('Temperature [1]')\n",
    "xlim([0 1])\n",
    "ylim([0 1])\n",
    "\n",
    "hold on\n",
    "for i=1:length(config)\n",
    "   \n",
    "  \n",
    "   # Loese AWP zum Anfangwert config(i).u0\n",
    "    solT =  #  config(i).u0\n",
    "    \n",
    "    # Vektoren\n",
    "    salinity = # ...\n",
    "    temperature = # ...\n",
    "    \n",
    "    N = length(temperature);\n",
    "    \n",
    "    # Anzeige der Loesung\n",
    "    if (parameter.alpha * temperature(N) > parameter.beta * salinity(N))  \n",
    "        plot(salinity, temperature, 'color', #?)\n",
    "    else \n",
    "         plot(salinity, temperature, 'color', #?)\n",
    "    end\n",
    "    \n",
    "    \n",
    "    \n",
    "end\n",
    "\n",
    "# Anzeige der Kurve fuer q = 0\n",
    "plot (linspace(0.0, 1.0, 21), (parameter.beta/parameter.alpha)*linspace(0.0, 1.0, 21),'color', 'black')\n",
    "\n",
    "drawnow"
   ]
  },
  {
   "cell_type": "markdown",
   "metadata": {},
   "source": [
    "c) Simulieren with den Parametern beim c) und suchen die stabile Gleichgewichte"
   ]
  },
  {
   "cell_type": "code",
   "execution_count": null,
   "metadata": {},
   "outputs": [],
   "source": [
    "#simulation"
   ]
  },
  {
   "cell_type": "code",
   "execution_count": null,
   "metadata": {},
   "outputs": [],
   "source": [
    "#plot"
   ]
  },
  {
   "cell_type": "markdown",
   "metadata": {},
   "source": [
    "d) Für die Gleichgewichte aus b) und c) jeweils die Jacobimatrix und deren Eigenwerte"
   ]
  },
  {
   "cell_type": "code",
   "execution_count": 10,
   "metadata": {},
   "outputs": [],
   "source": [
    "# Analyse der Linearisierung (Eigenwerte)\n",
    "# (z.B. im Startwert/Gleichgewicht)\n",
    "#\n",
    "\n",
    "# Berechnung der Jacobi-Matrix\n",
    "\n",
    "# Eigenwerte\n",
    "\n",
    "\n",
    "\n"
   ]
  },
  {
   "cell_type": "code",
   "execution_count": null,
   "metadata": {},
   "outputs": [],
   "source": [
    "help eigs"
   ]
  },
  {
   "cell_type": "code",
   "execution_count": null,
   "metadata": {},
   "outputs": [],
   "source": []
  }
 ],
 "metadata": {
  "kernelspec": {
   "display_name": "Octave",
   "language": "octave",
   "name": "octave"
  },
  "language_info": {
   "file_extension": ".m",
   "help_links": [
    {
     "text": "GNU Octave",
     "url": "https://www.gnu.org/software/octave/support.html"
    },
    {
     "text": "Octave Kernel",
     "url": "https://github.com/Calysto/octave_kernel"
    },
    {
     "text": "MetaKernel Magics",
     "url": "https://metakernel.readthedocs.io/en/latest/source/README.html"
    }
   ],
   "mimetype": "text/x-octave",
   "name": "octave",
   "version": "5.1.0"
  }
 },
 "nbformat": 4,
 "nbformat_minor": 2
}
