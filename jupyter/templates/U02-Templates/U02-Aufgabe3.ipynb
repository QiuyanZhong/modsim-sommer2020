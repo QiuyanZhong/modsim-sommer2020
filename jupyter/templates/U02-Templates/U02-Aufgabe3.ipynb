{
 "cells": [
  {
   "cell_type": "markdown",
   "metadata": {},
   "source": [
    "# N-Körper-Problem (Blatt 2, Aufgabe 5)\n",
    "***Autor:*** Arne Nägel, G-CSC, Uni Frankfurt, ***Datum:*** 24.10.19\n"
   ]
  },
  {
   "cell_type": "markdown",
   "metadata": {},
   "source": [
    "Betrachte $N$ Körper mit Positionen $\\vec x_i$ und Massen $m_i$:\n",
    "\\begin{align}\n",
    "m_i \\frac{d^2 \\vec x_i}{dt^2} = - G m_i \\sum_{j \\neq i} m_j \\frac{\\vec x_i - \\vec x_j}{\\|\\vec x_i - \\vec x_j\\|^3}\n",
    "\\end{align}\n",
    "Als Anfangswerte seien Positionen $\\vec x_{i,0} = \\vec x_i(t_0)$ sowie Geschwindigkeiten $\\vec v_{i,0}:=\\frac{d \\vec x_i}{dt} (t_0)$ gegeben."
   ]
  },
  {
   "cell_type": "markdown",
   "metadata": {},
   "source": [
    "**Aufgabe a)** 3-bodies-System: earth, moon, sun  "
   ]
  },
  {
   "cell_type": "code",
   "execution_count": 1,
   "metadata": {},
   "outputs": [
    {
     "name": "stdout",
     "output_type": "stream",
     "text": [
      "error: 'bodies' undefined near line 1 column 18\r\n"
     ]
    }
   ],
   "source": [
    "### \n",
    "bodies3={};\n",
    "\n",
    "\n",
    "# NASA: km-s\n",
    "bodies3(1).name = \"Erde\";\n",
    "%bodies(1).mass =                        # kg\n",
    "%bodies(1).Pos0 = \n",
    "%bodies(1).Vel0 =\n",
    "\n",
    "\n",
    "#bodies for Moon, Sonne\n",
    "\n",
    "nbodies = length(bodies);\n",
    "\n"
   ]
  },
  {
   "cell_type": "markdown",
   "metadata": {},
   "source": [
    "ODE-equation for n -bodies-system or 3-bodies-system"
   ]
  },
  {
   "cell_type": "code",
   "execution_count": 2,
   "metadata": {},
   "outputs": [
    {
     "name": "stdout",
     "output_type": "stream",
     "text": [
      "parse error:\n",
      "\n",
      "  syntax error\n",
      "\n",
      ">>> global constG = # m^3*(kg*s^2)\n",
      "                                 ^\n",
      "\n",
      "parse error:\n",
      "\n",
      "  syntax error\n",
      "\n",
      ">>>     udot=#init\n",
      "                 ^\n",
      "\n",
      "parse error:\n",
      "\n",
      "  syntax error\n",
      "\n",
      ">>> endfunction\n",
      "              ^\n",
      "\n"
     ]
    }
   ],
   "source": [
    "%Gravitationskonstante\n",
    "global constG = # m^3*(kg*s^2)\n",
    "\n",
    "%Umformulierung als System erster Ordnung\n",
    "%%Nun könnnen wir die rechte Seite der Differentialgleichung definieren.\n",
    "function udot=f_nbody(u, t, bodies)\n",
    "    \n",
    "    global constG;\n",
    "    \n",
    "    \n",
    "    udot=#init\n",
    "    \n",
    "   \n",
    "    \n",
    "endfunction\n",
    "\n",
    "%function udot=f_3body(u, t, bodies)\n",
    "    \n",
    "   % global constG;\n",
    "    \n",
    "    \n",
    "    %udot=#init\n",
    "    \n",
    "   \n",
    "    \n",
    "%endfunction    \n"
   ]
  },
  {
   "cell_type": "markdown",
   "metadata": {},
   "source": [
    "Wir lösen die DGL mittels `lsode`. Dazu definieren wir mittels `linspace` einen Vektor `mytimes` mit 500 äquidistant verteilten Punkten im Intervall $[0,T_{sim}]$. "
   ]
  },
  {
   "cell_type": "code",
   "execution_count": 3,
   "metadata": {},
   "outputs": [
    {
     "name": "stdout",
     "output_type": "stream",
     "text": [
      "parse error:\n",
      "\n",
      "  syntax error\n",
      "\n",
      ">>> Tsim = %                  # 1h = 3600 s\n",
      "                                          ^\n",
      "\n",
      "parse error:\n",
      "\n",
      "  syntax error\n",
      "\n",
      ">>> u0 = %  \n",
      "           ^\n",
      "\n",
      "parse error:\n",
      "\n",
      "  syntax error\n",
      "\n",
      ">>> mytimes =  # linspace 200 oder 500\n",
      "                                     ^\n",
      "\n",
      "parse error:\n",
      "\n",
      "  syntax error\n",
      "\n",
      ">>> ynumsolT  = # lsode()\n",
      "                        ^\n",
      "\n"
     ]
    }
   ],
   "source": [
    "%%c) Numerische Lösung\n",
    "Tsim = %                  # 1h = 3600 s\n",
    "u0 = %  \n",
    "\n",
    "mytimes =  # linspace 200 oder 500\n",
    "ynumsolT  = # lsode()\n",
    "\n"
   ]
  },
  {
   "cell_type": "markdown",
   "metadata": {},
   "source": [
    "## Erzeuge einige Plots"
   ]
  },
  {
   "cell_type": "code",
   "execution_count": 4,
   "metadata": {},
   "outputs": [],
   "source": [
    "%plot -f svg"
   ]
  },
  {
   "cell_type": "markdown",
   "metadata": {},
   "source": [
    "**Aufgabe b)**  xi-t-Diagramm"
   ]
  },
  {
   "cell_type": "code",
   "execution_count": 5,
   "metadata": {},
   "outputs": [
    {
     "data": {
      "image/svg+xml": [
       "<svg height=\"420px\" viewBox=\"0 0 560 420\" width=\"560px\" xmlns=\"http://www.w3.org/2000/svg\" xmlns:xlink=\"http://www.w3.org/1999/xlink\">\n",
       "\n",
       "<title>Gnuplot</title>\n",
       "<desc>Produced by GNUPLOT 5.2 patchlevel 7 </desc>\n",
       "\n",
       "<g id=\"gnuplot_canvas\">\n",
       "\n",
       "<rect fill=\"none\" height=\"420\" width=\"560\" x=\"0\" y=\"0\"/>\n",
       "<defs>\n",
       "\n",
       "\t<circle id=\"gpDot\" r=\"0.5\" stroke=\"currentColor\" stroke-width=\"0.5\"/>\n",
       "\t<path d=\"M-1,0 h2 M0,-1 v2\" id=\"gpPt0\" stroke=\"currentColor\" stroke-width=\"0.222\"/>\n",
       "\t<path d=\"M-1,-1 L1,1 M1,-1 L-1,1\" id=\"gpPt1\" stroke=\"currentColor\" stroke-width=\"0.222\"/>\n",
       "\t<path d=\"M-1,0 L1,0 M0,-1 L0,1 M-1,-1 L1,1 M-1,1 L1,-1\" id=\"gpPt2\" stroke=\"currentColor\" stroke-width=\"0.222\"/>\n",
       "\t<rect height=\"2\" id=\"gpPt3\" stroke=\"currentColor\" stroke-width=\"0.222\" width=\"2\" x=\"-1\" y=\"-1\"/>\n",
       "\t<rect fill=\"currentColor\" height=\"2\" id=\"gpPt4\" stroke=\"currentColor\" stroke-width=\"0.222\" width=\"2\" x=\"-1\" y=\"-1\"/>\n",
       "\t<circle cx=\"0\" cy=\"0\" id=\"gpPt5\" r=\"1\" stroke=\"currentColor\" stroke-width=\"0.222\"/>\n",
       "\t<use fill=\"currentColor\" id=\"gpPt6\" stroke=\"none\" xlink:href=\"#gpPt5\"/>\n",
       "\t<path d=\"M0,-1.33 L-1.33,0.67 L1.33,0.67 z\" id=\"gpPt7\" stroke=\"currentColor\" stroke-width=\"0.222\"/>\n",
       "\t<use fill=\"currentColor\" id=\"gpPt8\" stroke=\"none\" xlink:href=\"#gpPt7\"/>\n",
       "\t<use id=\"gpPt9\" stroke=\"currentColor\" transform=\"rotate(180)\" xlink:href=\"#gpPt7\"/>\n",
       "\t<use fill=\"currentColor\" id=\"gpPt10\" stroke=\"none\" xlink:href=\"#gpPt9\"/>\n",
       "\t<use id=\"gpPt11\" stroke=\"currentColor\" transform=\"rotate(45)\" xlink:href=\"#gpPt3\"/>\n",
       "\t<use fill=\"currentColor\" id=\"gpPt12\" stroke=\"none\" xlink:href=\"#gpPt11\"/>\n",
       "\t<path d=\"M0,1.330 L1.265,0.411 L0.782,-1.067 L-0.782,-1.076 L-1.265,0.411 z\" id=\"gpPt13\" stroke=\"currentColor\" stroke-width=\"0.222\"/>\n",
       "\t<use fill=\"currentColor\" id=\"gpPt14\" stroke=\"none\" xlink:href=\"#gpPt13\"/>\n",
       "\t<filter filterUnits=\"objectBoundingBox\" height=\"1\" id=\"textbox\" width=\"1\" x=\"0\" y=\"0\">\n",
       "\t  <feFlood flood-color=\"white\" flood-opacity=\"1\" result=\"bgnd\"/>\n",
       "\t  <feComposite in=\"SourceGraphic\" in2=\"bgnd\" operator=\"atop\"/>\n",
       "\t</filter>\n",
       "\t<filter filterUnits=\"objectBoundingBox\" height=\"1\" id=\"greybox\" width=\"1\" x=\"0\" y=\"0\">\n",
       "\t  <feFlood flood-color=\"lightgrey\" flood-opacity=\"1\" result=\"grey\"/>\n",
       "\t  <feComposite in=\"SourceGraphic\" in2=\"grey\" operator=\"atop\"/>\n",
       "\t</filter>\n",
       "</defs>\n",
       "<g color=\"white\" fill=\"none\" stroke=\"currentColor\" stroke-linecap=\"butt\" stroke-linejoin=\"miter\" stroke-width=\"1.00\">\n",
       "</g>\n",
       "<g color=\"black\" fill=\"none\" stroke=\"currentColor\" stroke-linecap=\"butt\" stroke-linejoin=\"miter\" stroke-width=\"1.00\">\n",
       "\t<g shape-rendering=\"crispEdges\" stroke=\"none\">\n",
       "\t\t<polygon fill=\"rgb(255, 255, 255)\" points=\"45.6,384.0 534.9,384.0 534.9,18.2 45.6,18.2 \"/>\n",
       "\t</g>\n",
       "</g>\n",
       "<g color=\"black\" fill=\"none\" stroke=\"currentColor\" stroke-linecap=\"butt\" stroke-linejoin=\"miter\" stroke-width=\"1.00\">\n",
       "\t<path d=\"M45.6,384.0 L58.1,384.0  \" stroke=\"rgb(  0,   0,   0)\"/>\t<g fill=\"rgb(38,38,38)\" font-family=\"Arial\" font-size=\"10.00\" stroke=\"none\" text-anchor=\"end\" transform=\"translate(37.3,387.3)\">\n",
       "\t\t<text><tspan font-family=\"Arial\">0</tspan></text>\n",
       "\t</g>\n",
       "</g>\n",
       "<g color=\"black\" fill=\"none\" stroke=\"currentColor\" stroke-linecap=\"butt\" stroke-linejoin=\"miter\" stroke-width=\"1.00\">\n",
       "\t<path d=\"M45.6,310.8 L58.1,310.8  \" stroke=\"rgb(  0,   0,   0)\"/>\t<g fill=\"rgb(38,38,38)\" font-family=\"Arial\" font-size=\"10.00\" stroke=\"none\" text-anchor=\"end\" transform=\"translate(37.3,314.1)\">\n",
       "\t\t<text><tspan font-family=\"Arial\">0.2</tspan></text>\n",
       "\t</g>\n",
       "</g>\n",
       "<g color=\"black\" fill=\"none\" stroke=\"currentColor\" stroke-linecap=\"butt\" stroke-linejoin=\"miter\" stroke-width=\"1.00\">\n",
       "\t<path d=\"M45.6,237.6 L58.1,237.6  \" stroke=\"rgb(  0,   0,   0)\"/>\t<g fill=\"rgb(38,38,38)\" font-family=\"Arial\" font-size=\"10.00\" stroke=\"none\" text-anchor=\"end\" transform=\"translate(37.3,240.9)\">\n",
       "\t\t<text><tspan font-family=\"Arial\">0.4</tspan></text>\n",
       "\t</g>\n",
       "</g>\n",
       "<g color=\"black\" fill=\"none\" stroke=\"currentColor\" stroke-linecap=\"butt\" stroke-linejoin=\"miter\" stroke-width=\"1.00\">\n",
       "\t<path d=\"M45.6,164.5 L58.1,164.5  \" stroke=\"rgb(  0,   0,   0)\"/>\t<g fill=\"rgb(38,38,38)\" font-family=\"Arial\" font-size=\"10.00\" stroke=\"none\" text-anchor=\"end\" transform=\"translate(37.3,167.8)\">\n",
       "\t\t<text><tspan font-family=\"Arial\">0.6</tspan></text>\n",
       "\t</g>\n",
       "</g>\n",
       "<g color=\"black\" fill=\"none\" stroke=\"currentColor\" stroke-linecap=\"butt\" stroke-linejoin=\"miter\" stroke-width=\"1.00\">\n",
       "\t<path d=\"M45.6,91.3 L58.1,91.3  \" stroke=\"rgb(  0,   0,   0)\"/>\t<g fill=\"rgb(38,38,38)\" font-family=\"Arial\" font-size=\"10.00\" stroke=\"none\" text-anchor=\"end\" transform=\"translate(37.3,94.6)\">\n",
       "\t\t<text><tspan font-family=\"Arial\">0.8</tspan></text>\n",
       "\t</g>\n",
       "</g>\n",
       "<g color=\"black\" fill=\"none\" stroke=\"currentColor\" stroke-linecap=\"butt\" stroke-linejoin=\"miter\" stroke-width=\"1.00\">\n",
       "\t<path d=\"M45.6,18.1 L58.1,18.1  \" stroke=\"rgb(  0,   0,   0)\"/>\t<g fill=\"rgb(38,38,38)\" font-family=\"Arial\" font-size=\"10.00\" stroke=\"none\" text-anchor=\"end\" transform=\"translate(37.3,21.4)\">\n",
       "\t\t<text><tspan font-family=\"Arial\">1</tspan></text>\n",
       "\t</g>\n",
       "</g>\n",
       "<g color=\"black\" fill=\"none\" stroke=\"currentColor\" stroke-linecap=\"butt\" stroke-linejoin=\"miter\" stroke-width=\"1.00\">\n",
       "\t<path d=\"M45.6,384.0 L45.6,371.5  \" stroke=\"rgb(  0,   0,   0)\"/>\t<g fill=\"rgb(38,38,38)\" font-family=\"Arial\" font-size=\"10.00\" stroke=\"none\" text-anchor=\"middle\" transform=\"translate(45.6,405.3)\">\n",
       "\t\t<text><tspan font-family=\"Arial\">0</tspan></text>\n",
       "\t</g>\n",
       "</g>\n",
       "<g color=\"black\" fill=\"none\" stroke=\"currentColor\" stroke-linecap=\"butt\" stroke-linejoin=\"miter\" stroke-width=\"1.00\">\n",
       "\t<path d=\"M143.5,384.0 L143.5,371.5  \" stroke=\"rgb(  0,   0,   0)\"/>\t<g fill=\"rgb(38,38,38)\" font-family=\"Arial\" font-size=\"10.00\" stroke=\"none\" text-anchor=\"middle\" transform=\"translate(143.5,405.3)\">\n",
       "\t\t<text><tspan font-family=\"Arial\">0.2</tspan></text>\n",
       "\t</g>\n",
       "</g>\n",
       "<g color=\"black\" fill=\"none\" stroke=\"currentColor\" stroke-linecap=\"butt\" stroke-linejoin=\"miter\" stroke-width=\"1.00\">\n",
       "\t<path d=\"M241.4,384.0 L241.4,371.5  \" stroke=\"rgb(  0,   0,   0)\"/>\t<g fill=\"rgb(38,38,38)\" font-family=\"Arial\" font-size=\"10.00\" stroke=\"none\" text-anchor=\"middle\" transform=\"translate(241.4,405.3)\">\n",
       "\t\t<text><tspan font-family=\"Arial\">0.4</tspan></text>\n",
       "\t</g>\n",
       "</g>\n",
       "<g color=\"black\" fill=\"none\" stroke=\"currentColor\" stroke-linecap=\"butt\" stroke-linejoin=\"miter\" stroke-width=\"1.00\">\n",
       "\t<path d=\"M339.2,384.0 L339.2,371.5  \" stroke=\"rgb(  0,   0,   0)\"/>\t<g fill=\"rgb(38,38,38)\" font-family=\"Arial\" font-size=\"10.00\" stroke=\"none\" text-anchor=\"middle\" transform=\"translate(339.2,405.3)\">\n",
       "\t\t<text><tspan font-family=\"Arial\">0.6</tspan></text>\n",
       "\t</g>\n",
       "</g>\n",
       "<g color=\"black\" fill=\"none\" stroke=\"currentColor\" stroke-linecap=\"butt\" stroke-linejoin=\"miter\" stroke-width=\"1.00\">\n",
       "\t<path d=\"M437.1,384.0 L437.1,371.5  \" stroke=\"rgb(  0,   0,   0)\"/>\t<g fill=\"rgb(38,38,38)\" font-family=\"Arial\" font-size=\"10.00\" stroke=\"none\" text-anchor=\"middle\" transform=\"translate(437.1,405.3)\">\n",
       "\t\t<text><tspan font-family=\"Arial\">0.8</tspan></text>\n",
       "\t</g>\n",
       "</g>\n",
       "<g color=\"black\" fill=\"none\" stroke=\"currentColor\" stroke-linecap=\"butt\" stroke-linejoin=\"miter\" stroke-width=\"1.00\">\n",
       "\t<path d=\"M535.0,384.0 L535.0,371.5  \" stroke=\"rgb(  0,   0,   0)\"/>\t<g fill=\"rgb(38,38,38)\" font-family=\"Arial\" font-size=\"10.00\" stroke=\"none\" text-anchor=\"middle\" transform=\"translate(535.0,405.3)\">\n",
       "\t\t<text><tspan font-family=\"Arial\">1</tspan></text>\n",
       "\t</g>\n",
       "</g>\n",
       "<g color=\"black\" fill=\"none\" stroke=\"currentColor\" stroke-linecap=\"butt\" stroke-linejoin=\"miter\" stroke-width=\"1.00\">\n",
       "</g>\n",
       "<g color=\"black\" fill=\"none\" stroke=\"currentColor\" stroke-linecap=\"butt\" stroke-linejoin=\"miter\" stroke-width=\"1.00\">\n",
       "</g>\n",
       "\t<g id=\"gnuplot_plot_1a\"><title>&quot;-&quot;</title>\n",
       "<g color=\"black\" fill=\"none\" stroke=\"currentColor\" stroke-linecap=\"butt\" stroke-linejoin=\"miter\" stroke-width=\"1.00\">\n",
       "</g>\n",
       "\t</g>\n",
       "<g color=\"white\" fill=\"none\" stroke=\"rgb(148,   0, 211)\" stroke-linecap=\"butt\" stroke-linejoin=\"miter\" stroke-width=\"2.00\">\n",
       "</g>\n",
       "<g color=\"black\" fill=\"none\" stroke=\"currentColor\" stroke-linecap=\"butt\" stroke-linejoin=\"miter\" stroke-width=\"2.00\">\n",
       "</g>\n",
       "<g color=\"black\" fill=\"none\" stroke=\"black\" stroke-linecap=\"butt\" stroke-linejoin=\"miter\" stroke-width=\"0.50\">\n",
       "\t<path d=\"M45.6,384.0 L535.0,384.0 M45.6,384.0 L45.6,18.1  \" stroke=\"rgb( 38,  38,  38)\"/></g>\n",
       "<g color=\"black\" fill=\"none\" stroke=\"rgb( 38,  38,  38)\" stroke-linecap=\"butt\" stroke-linejoin=\"miter\" stroke-width=\"1.00\">\n",
       "</g>\n",
       "<g color=\"black\" fill=\"none\" stroke=\"currentColor\" stroke-linecap=\"butt\" stroke-linejoin=\"miter\" stroke-width=\"1.00\">\n",
       "</g>\n",
       "</g>\n",
       "</svg>"
      ],
      "text/plain": [
       "<IPython.core.display.SVG object>"
      ]
     },
     "metadata": {},
     "output_type": "display_data"
    }
   ],
   "source": [
    "%Aufgabe b) plot time-ri plot with unit for each bodies \n",
    "hold on   % \n",
    "\n"
   ]
  },
  {
   "cell_type": "markdown",
   "metadata": {},
   "source": [
    "**Aufgabe c)** Darstellung der Trajektorie in der $r_1$-$r_2$-Ebene"
   ]
  },
  {
   "cell_type": "code",
   "execution_count": 6,
   "metadata": {},
   "outputs": [
    {
     "name": "stdout",
     "output_type": "stream",
     "text": [
      "error: graphics_toolkit: r1-r2-plot toolkit is not available\n",
      "error: called from\n",
      "    graphics_toolkit at line 81 column 5\n",
      "\n",
      "\n",
      "gnuplot> set terminal aqua enhanced title \"Figure 1\" size 560 420  font \"*,6.66667\" dashlength 1\n",
      "                      ^\n",
      "         line 0: unknown or ambiguous terminal type; type just 'set terminal' for a list\n",
      "\n",
      "WARNING: Plotting with an 'unknown' terminal.\n",
      "No output will be generated. Please select a terminal with 'set terminal'.\n",
      "\n",
      "gnuplot> set terminal aqua enhanced title \"Figure 1\"  font \"*,6.66667\" dashlength 1\n",
      "                      ^\n",
      "         line 2: unknown or ambiguous terminal type; type just 'set terminal' for a list\n",
      "\n",
      "WARNING: Plotting with an 'unknown' terminal.\n",
      "No output will be generated. Please select a terminal with 'set terminal'.\n"
     ]
    }
   ],
   "source": [
    "%plot r1-r2-plot axis-label with unit\n",
    "newplot()\n",
    "hold on\n",
    "\n",
    "%drawnow\n",
    "# plot(0.0, 0.0, 'color', 'black')"
   ]
  },
  {
   "cell_type": "markdown",
   "metadata": {},
   "source": [
    "**Aufgabe d)** Simulation on the solar system"
   ]
  },
  {
   "cell_type": "code",
   "execution_count": 7,
   "metadata": {},
   "outputs": [
    {
     "name": "stdout",
     "output_type": "stream",
     "text": [
      "solarbodies = {}(0x0)\n",
      "parse error:\n",
      "\n",
      "  syntax error\n",
      "\n",
      ">>> solarbodies(1).name=%\n",
      "                        ^\n",
      "\n"
     ]
    }
   ],
   "source": [
    "solarbodies={} % Aufgabe 3 d)\n",
    "\n",
    "solarbodies(1).name=%\n",
    "\n"
   ]
  },
  {
   "cell_type": "code",
   "execution_count": 8,
   "metadata": {},
   "outputs": [],
   "source": [
    "%function udot=f_nbody(u, t, bodies)\n",
    "    \n",
    "   % global constG;\n",
    "    \n",
    "    \n",
    "    %udot=#init\n",
    "    \n",
    "   \n",
    "    \n",
    "%endfunction\n"
   ]
  },
  {
   "cell_type": "code",
   "execution_count": 9,
   "metadata": {},
   "outputs": [
    {
     "name": "stdout",
     "output_type": "stream",
     "text": [
      "parse error:\n",
      "\n",
      "  syntax error\n",
      "\n",
      ">>> Tsim = %                  # starts at 01.12.2019, ends 31558149s\n",
      "                                                                   ^\n",
      "\n",
      "parse error:\n",
      "\n",
      "  syntax error\n",
      "\n",
      ">>> u0 = %  \n",
      "           ^\n",
      "\n",
      "parse error:\n",
      "\n",
      "  syntax error\n",
      "\n",
      ">>> mytimes =  # linspace 200 oder 500\n",
      "                                     ^\n",
      "\n",
      "parse error:\n",
      "\n",
      "  syntax error\n",
      "\n",
      ">>> ynumsolT  = # lsode()\n",
      "                        ^\n",
      "\n"
     ]
    }
   ],
   "source": [
    "Tsim = %                  # starts at 01.12.2019, ends 31558149s\n",
    "u0 = %  \n",
    "\n",
    "mytimes =  # linspace 200 oder 500\n",
    "ynumsolT  = # lsode()\n"
   ]
  },
  {
   "cell_type": "markdown",
   "metadata": {},
   "source": [
    "**Aufgabe e)**  x1-x2-Diagramm"
   ]
  },
  {
   "cell_type": "code",
   "execution_count": 10,
   "metadata": {},
   "outputs": [],
   "source": [
    "% Aufgabe e) plot r1-r2-plot axis-label with unit\n",
    "newplot()\n",
    "hold on\n",
    "\n",
    "%drawnow\n",
    "\n"
   ]
  }
 ],
 "metadata": {
  "kernelspec": {
   "display_name": "Octave",
   "language": "octave",
   "name": "octave"
  },
  "language_info": {
   "file_extension": ".m",
   "help_links": [
    {
     "text": "GNU Octave",
     "url": "https://www.gnu.org/software/octave/support.html"
    },
    {
     "text": "Octave Kernel",
     "url": "https://github.com/Calysto/octave_kernel"
    },
    {
     "text": "MetaKernel Magics",
     "url": "https://metakernel.readthedocs.io/en/latest/source/README.html"
    }
   ],
   "mimetype": "text/x-octave",
   "name": "octave",
   "version": "5.1.0"
  }
 },
 "nbformat": 4,
 "nbformat_minor": 2
}
