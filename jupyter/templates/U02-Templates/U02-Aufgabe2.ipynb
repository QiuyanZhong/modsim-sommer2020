{
 "cells": [
  {
   "cell_type": "markdown",
   "metadata": {},
   "source": [
    "# Blatt 2 Aufgabe 2 "
   ]
  },
  {
   "cell_type": "markdown",
   "metadata": {},
   "source": [
    "copy/ implement euler_explicit"
   ]
  },
  {
   "cell_type": "code",
   "execution_count": 1,
   "metadata": {},
   "outputs": [],
   "source": [
    "function solT=euler_explicit(f, u, tdiscret) % f(u,t)\n",
    " %u: vector, \n",
    " % tidiskret: vector\n",
    " \n",
    "endfunction"
   ]
  },
  {
   "cell_type": "markdown",
   "metadata": {},
   "source": [
    "**Aufgabe a)**\n",
    "\n",
    "Implement function  for extrapolation_explicit\n",
    "  goal: get  solT\n",
    "  difficulties: think over \n",
    "  \n",
    "  A. the data type of all variables: u0, t0, t1, tau sigma, delta, result of euler_explicit, T \n",
    "  \n",
    "  B. how to save the Schema: a matrix or a lot of matrices if u is a vector  \n",
    " \n",
    " 1. set t0, t1, tau, u0 \n",
    " 2. compute u1\n",
    "     2.1 initiation of Aitken Neville-Schema: T_11 to T_N1 \n",
    "         2.1.1 inite sigma(i) for each stage\n",
    "         2.1.2 use euler_explict with each sigma(i) // how to use?\n",
    "         2.1.3 save u_i of each stage  in T_i1\n",
    "    2.2 run Aitken Neville-Schema \n",
    "        2.2.1 delta for T_i (k-1)\n",
    "             (save delta_k(k-1) into subdiagEstim)\n",
    "        2.2.2 update T_i (k)\n",
    "3. u1= T_NN, so save u1 in solT for the tdiscret(n)-th time step."
   ]
  },
  {
   "cell_type": "code",
   "execution_count": 2,
   "metadata": {},
   "outputs": [
    {
     "name": "stdout",
     "output_type": "stream",
     "text": [
      "parse error:\n",
      "\n",
      "  syntax error\n",
      "\n",
      ">>> NStep= % time step number\n",
      "                            ^\n",
      "\n",
      "parse error:\n",
      "\n",
      "  syntax error\n",
      "\n",
      ">>> solT=%inite solT: matrix or vector?\n",
      "                                      ^\n",
      "\n",
      "parse error:\n",
      "\n",
      "  syntax error\n",
      "\n",
      ">>> subdiagEstim=% inite subdiagEstim: matrix or vector? \n",
      "                                                        ^\n",
      "\n",
      "parse error:\n",
      "\n",
      "  syntax error\n",
      "\n",
      ">>> t0=%\n",
      "       ^\n",
      "\n",
      "parse error:\n",
      "\n",
      "  syntax error\n",
      "\n",
      ">>> t1=%\n",
      "       ^\n",
      "\n",
      "parse error:\n",
      "\n",
      "  syntax error\n",
      "\n",
      ">>> tau=%\n",
      "        ^\n",
      "\n",
      "parse error:\n",
      "\n",
      "  syntax error\n",
      "\n",
      ">>> u0=%\n",
      "       ^\n",
      "\n",
      "parse error:\n",
      "\n",
      "  syntax error\n",
      "\n",
      ">>> sigma= % inite sigma for each stage\n",
      "                                      ^\n",
      "\n",
      "parse error:\n",
      "\n",
      "  syntax error\n",
      "\n",
      ">>> T=% init T for T11 to TN1\n",
      "                            ^\n",
      "\n",
      "parse error:\n",
      "\n",
      "  syntax error\n",
      "\n",
      ">>>     subT=% solving by euler_explicit -> stageT: a matrix or vector?-> how to get the T11 for t1\n",
      "                                                                                                  ^\n",
      "\n",
      "parse error:\n",
      "\n",
      "  syntax error\n",
      "\n",
      ">>>     T(i,:)=% inite the TN1 from subT\n",
      "                                       ^\n",
      "\n",
      "parse error:\n",
      "\n",
      "  syntax error\n",
      "\n",
      ">>> end\n",
      "      ^\n",
      "\n",
      "parse error:\n",
      "\n",
      "  syntax error\n",
      "\n",
      ">>> for i=\n",
      "         ^\n",
      "\n",
      "parse error:\n",
      "\n",
      "  syntax error\n",
      "\n",
      ">>>   for k= % reverse for loop or for loop ?\n",
      "                                            ^\n",
      "\n",
      "parse error:\n",
      "\n",
      "  syntax error\n",
      "\n",
      ">>>         delta=%delta: sigma_i/(sigma_(i-k+1)-sigma_i)*(T_(i, k-1)-T(i-1,k-1))\n",
      "                                                                                ^\n",
      "\n",
      "parse error:\n",
      "\n",
      "  syntax error\n",
      "\n",
      ">>>   end\n",
      "        ^\n",
      "\n",
      "parse error:\n",
      "\n",
      "  syntax error\n",
      "\n",
      ">>> end\n",
      "      ^\n",
      "\n",
      "parse error:\n",
      "\n",
      "  syntax error\n",
      "\n",
      ">>> solT(step,:)=%save u_step into solT(step,:)\n",
      "                                              ^\n",
      "\n",
      "parse error:\n",
      "\n",
      "  syntax error\n",
      "\n",
      ">>> end\n",
      "      ^\n",
      "\n",
      "parse error:\n",
      "\n",
      "  syntax error\n",
      "\n",
      ">>> endfunction\n",
      "              ^\n",
      "\n"
     ]
    }
   ],
   "source": [
    "function [solT, subdiagEstim] =extrapolation_explicit(f, u0, tdiscret, NStage=2) % f(u,t)\n",
    "%u: number or vector? \n",
    "\n",
    "NStep= % time step number\n",
    "solT=%inite solT: matrix or vector?\n",
    "subdiagEstim=% inite subdiagEstim: matrix or vector? \n",
    "\n",
    "for step=2:NStep\n",
    "\n",
    "% 1.prepare t0, t1, u0, tau\n",
    "t0=%\n",
    "t1=%\n",
    "tau=%\n",
    "u0=%\n",
    "\n",
    "%2.compute u_step:\n",
    "\n",
    "%2.1initiation of Aitken Neville-Schema: T11 to TN1 using euler_explicit \n",
    "sigma= % inite sigma for each stage\n",
    "T=% init T for T11 to TN1\n",
    "for i=1:NStage\n",
    "   %linspace() : discrete the time in one stage\n",
    "    subT=% solving by euler_explicit -> stageT: a matrix or vector?-> how to get the T11 for t1\n",
    "    T(i,:)=% inite the TN1 from subT\n",
    "end\n",
    "\n",
    "%2.2 Aitken Neville-Schema by rule: T_ik=T_i(k-1)+delta\n",
    "for i=\n",
    "  for k= % reverse for loop or for loop ?\n",
    "        delta=%delta: sigma_i/(sigma_(i-k+1)-sigma_i)*(T_(i, k-1)-T(i-1,k-1))\n",
    "        \n",
    "        \n",
    "        %Update to a newly defined Matrix or the old Matrix of initT\n",
    "        \n",
    "        \n",
    "       %save subdiagEstime\n",
    "        \n",
    "  end\n",
    "end\n",
    "\n",
    "\n",
    "solT(step,:)=%save u_step into solT(step,:)\n",
    "\n",
    "end\n",
    "\n",
    "endfunction"
   ]
  },
  {
   "cell_type": "markdown",
   "metadata": {},
   "source": [
    "Test equation "
   ]
  },
  {
   "cell_type": "code",
   "execution_count": 3,
   "metadata": {},
   "outputs": [],
   "source": [
    "function udot=myrhs(u,t)\n",
    "\n",
    "endfunction"
   ]
  },
  {
   "cell_type": "code",
   "execution_count": 4,
   "metadata": {},
   "outputs": [
    {
     "name": "stdout",
     "output_type": "stream",
     "text": [
      "parse error:\n",
      "\n",
      "  syntax error\n",
      "\n",
      ">>> u0=%\n",
      "       ^\n",
      "\n",
      "parse error:\n",
      "\n",
      "  syntax error\n",
      "\n",
      ">>> tMax=%\n",
      "         ^\n",
      "\n"
     ]
    }
   ],
   "source": [
    "u0=%\n",
    "tMax=%"
   ]
  },
  {
   "cell_type": "markdown",
   "metadata": {},
   "source": [
    "**Aufgabe b)** Exact solution of udot for tdiscret"
   ]
  },
  {
   "cell_type": "code",
   "execution_count": 5,
   "metadata": {},
   "outputs": [
    {
     "name": "stdout",
     "output_type": "stream",
     "text": [
      "parse error:\n",
      "\n",
      "  syntax error\n",
      "\n",
      ">>> tdiscret_ref=%\n",
      "                 ^\n",
      "\n",
      "parse error:\n",
      "\n",
      "  syntax error\n",
      "\n",
      ">>> uref= % based on the tdiscret_ref\n",
      "                                    ^\n",
      "\n"
     ]
    }
   ],
   "source": [
    "% udot -> exact equation -> solve exact equation for tdiscret\n",
    "tdiscret_ref=%\n",
    "uref= % based on the tdiscret_ref"
   ]
  },
  {
   "cell_type": "markdown",
   "metadata": {},
   "source": [
    "**Aufgabe b)  and c)** \n",
    "Numerical solution for each tau=0.5^i, global discretiszation error at t=2, Eglobal=norm(u(t)-y(t), inf), and the subdiagonal error estimator at t=2\n",
    "\n",
    "errList:\n",
    "\n",
    " tau  (errEuler) errXtra2 subdiagE2_of_lastStep errXtra3 subdiagE3_of_lastStep"
   ]
  },
  {
   "cell_type": "code",
   "execution_count": 6,
   "metadata": {},
   "outputs": [],
   "source": [
    "errList=[]; % errList=zeors(7, item number)\n",
    "for i=1:7\n",
    "tau=%\n",
    "tdiscret=%\n",
    "%euler_explicit\n",
    "\n",
    "\n",
    "%extrapolation N=2 \n",
    "\n",
    "%extrapolation N=3\n",
    "\n",
    "end\n",
    "\n"
   ]
  },
  {
   "cell_type": "markdown",
   "metadata": {},
   "source": [
    "**Addition**: Plot exact and numerical solutions"
   ]
  },
  {
   "cell_type": "code",
   "execution_count": 7,
   "metadata": {},
   "outputs": [
    {
     "name": "stdout",
     "output_type": "stream",
     "text": [
      "parse error:\n",
      "\n",
      "  syntax error\n",
      "\n",
      ">>> umin=%min()\n",
      "              ^\n",
      "\n",
      "parse error:\n",
      "\n",
      "  syntax error\n",
      "\n",
      ">>> umax=%max()\n",
      "              ^\n",
      "\n",
      "error: 'tmax' undefined near line 1 column 46\n"
     ]
    },
    {
     "data": {
      "image/png": "[encoded data removed]",
      "text/plain": [
       "<IPython.core.display.Image object>"
      ]
     },
     "metadata": {},
     "output_type": "display_data"
    }
   ],
   "source": [
    "newplot()\n",
    "hold on\n",
    "\n",
    "title(\"Loesung von \\dot u = Lambda*u in direction field\")\n",
    "xlabel(\"t\")\n",
    "ylabel(\"u(t)\")\n",
    "\n",
    "umin=%min()\n",
    "umax=%max()\n",
    "plot_richtungsfeld_1d(@myrhs, (t=linspace(0, tmax, M)), (u=linspace(umin, umax, N)));\n",
    "\n",
    "% plot exact solution with tdiscret_ref and uref\n",
    "%plot numerical solutions yextra for each tau"
   ]
  },
  {
   "cell_type": "markdown",
   "metadata": {},
   "source": [
    "**Aufgabe d)** Quotient:\n",
    "\n",
    "(tau) errGlobal2  estimLocal2 errGlobal3 estimLocal3"
   ]
  },
  {
   "cell_type": "code",
   "execution_count": 8,
   "metadata": {},
   "outputs": [
    {
     "name": "stdout",
     "output_type": "stream",
     "text": [
      "p = [](0x0)\r\n"
     ]
    }
   ],
   "source": [
    "Quotient=[]; % or Quotient=zeors(6, item number)\n",
    "\n",
    "for i=1:6\n",
    " % tau\n",
    "%N=2, global, local-estimator\n",
    "\n",
    "%N=3: global, local-estimator\n",
    "\n",
    "\n",
    "end\n",
    "\n",
    "% summary the order p of global errors and local estimators\n",
    "p=[]"
   ]
  },
  {
   "cell_type": "markdown",
   "metadata": {},
   "source": [
    "**Addition**: Convergence order of discretization using loglog\n",
    "(Euler_explicit), extrapolation N=2, extrapolation N=3"
   ]
  },
  {
   "cell_type": "code",
   "execution_count": 9,
   "metadata": {},
   "outputs": [
    {
     "data": {
      "image/png": "[encoded data removed]",
      "text/plain": [
       "<IPython.core.display.Image object>"
      ]
     },
     "metadata": {},
     "output_type": "display_data"
    }
   ],
   "source": [
    "newplot()\n",
    "grid on\n",
    "title(\"Konvergenzordnung der global Diskretisierung\")\n",
    "xlabel(\"tau\")\n",
    "ylabel(\"err\")\n",
    "hold on\n",
    "\n",
    "%legend (\"eulerEx\",\"N=2\", \"N=3\")\n"
   ]
  },
  {
   "cell_type": "code",
   "execution_count": 10,
   "metadata": {},
   "outputs": [
    {
     "name": "stdout",
     "output_type": "stream",
     "text": [
      "'loglog' is a function from the file /usr/local/Cellar/octave/5.1.0_8/share/octave/5.1.0/m/plot/draw/loglog.m\r\n",
      "\r\n",
      " -- loglog (Y)\r\n",
      " -- loglog (X, Y)\r\n",
      " -- loglog (X, Y, PROP, VALUE, ...)\r\n",
      " -- loglog (X, Y, FMT)\r\n",
      " -- loglog (HAX, ...)\r\n",
      " -- H = loglog (...)\r\n",
      "     Produce a 2-D plot using logarithmic scales for both axes.\r\n",
      "\r\n",
      "     See the documentation of 'plot' for a description of the arguments\r\n",
      "     that 'loglog' will accept.\r\n",
      "\r\n",
      "     If the first argument HAX is an axes handle, then plot into this\r\n",
      "     axes, rather than the current axes returned by 'gca'.\r\n",
      "\r\n",
      "     The optional return value H is a graphics handle to the created\r\n",
      "     plot.\r\n",
      "\r\n",
      "     See also: plot, semilogx, semilogy.\r\n",
      "\r\n",
      "Additional help for built-in functions and operators is\r\n",
      "available in the online version of the manual.  Use the command\r\n",
      "'doc <topic>' to search the manual index.\r\n",
      "\r\n",
      "Help and information about Octave is also available on the WWW\r\n",
      "at https://www.octave.org and via the help@octave.org\r\n",
      "mailing list.\r\n"
     ]
    }
   ],
   "source": [
    "help loglog"
   ]
  }
 ],
 "metadata": {
  "kernelspec": {
   "display_name": "Octave",
   "language": "octave",
   "name": "octave"
  },
  "language_info": {
   "file_extension": ".m",
   "help_links": [
    {
     "text": "GNU Octave",
     "url": "https://www.gnu.org/software/octave/support.html"
    },
    {
     "text": "Octave Kernel",
     "url": "https://github.com/Calysto/octave_kernel"
    },
    {
     "text": "MetaKernel Magics",
     "url": "https://metakernel.readthedocs.io/en/latest/source/README.html"
    }
   ],
   "mimetype": "text/x-octave",
   "name": "octave",
   "version": "5.1.0"
  }
 },
 "nbformat": 4,
 "nbformat_minor": 2
}
